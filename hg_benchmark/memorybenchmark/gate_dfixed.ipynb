{
 "cells": [
  {
   "cell_type": "code",
   "execution_count": 1,
   "id": "5c95a386",
   "metadata": {},
   "outputs": [],
   "source": [
    "%load_ext memory_profiler\n",
    "from hg_benchmark.gate import simulation \n",
    "import numpy as np"
   ]
  },
  {
   "cell_type": "code",
   "execution_count": 2,
   "id": "3325ec01",
   "metadata": {},
   "outputs": [
    {
     "name": "stdout",
     "output_type": "stream",
     "text": [
      "iter   |   total error  |       cost0      |   grads_l2  \n",
      "=================================================================\n",
      "  0    | 9.99997321e-01 |  9.99997321e-01  |  8.30015404e-14  \n",
      "peak memory: 2154.43 MiB, increment: 2037.82 MiB\n"
     ]
    }
   ],
   "source": [
    "pre=2*np.pi\n",
    "N_=[250,280,310,340,370]\n",
    "#totol number of time step\n",
    "mem_ma_Nfixed=[[],[]]\n",
    "#first is average value,secind is standard deivation\n",
    "for N in N_:\n",
    "    mem_temp = %memit -r1 -i0.01 -o simulation(12,\"SAD\",N_,dt=1e-5)\n",
    "    mem_temp=np.array(mem_temp.mem_usage)\n",
    "    mem_ma_Nfixed[0].append(np.average(mem_temp))\n",
    "    mem_ma_Nfixed[1].append(np.std(mem_temp))"
   ]
  },
  {
   "cell_type": "code",
   "execution_count": null,
   "id": "f1e2fe65",
   "metadata": {},
   "outputs": [],
   "source": [
    "pre=2*np.pi\n",
    "N_=[250,280,310,340,370]\n",
    "#totol number of time step\n",
    "mem_ma_Nfixed=[[],[]]\n",
    "#first is average value,secind is standard deivation\n",
    "for N in N_:\n",
    "    mem_temp = %memit -r1 -i0.01 -o simulation(12,\"HG\",N_,dt=1e-5)\n",
    "    mem_temp=np.array(mem_temp.mem_usage)\n",
    "    mem_ma_Nfixed[0].append(np.average(mem_temp))\n",
    "    mem_ma_Nfixed[1].append(np.std(mem_temp))"
   ]
  }
 ],
 "metadata": {
  "kernelspec": {
   "display_name": "Python 3 (ipykernel)",
   "language": "python",
   "name": "python3"
  },
  "language_info": {
   "codemirror_mode": {
    "name": "ipython",
    "version": 3
   },
   "file_extension": ".py",
   "mimetype": "text/x-python",
   "name": "python",
   "nbconvert_exporter": "python",
   "pygments_lexer": "ipython3",
   "version": "3.8.3"
  }
 },
 "nbformat": 4,
 "nbformat_minor": 5
}
