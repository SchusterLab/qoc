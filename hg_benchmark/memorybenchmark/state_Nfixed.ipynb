{
 "cells": [
  {
   "cell_type": "code",
   "execution_count": 1,
   "id": "eb742f14",
   "metadata": {},
   "outputs": [],
   "source": [
    "%load_ext memory_profiler\n",
    "from hg_benchmark.state_transfer import simulation\n",
    "import numpy as np"
   ]
  },
  {
   "cell_type": "code",
   "execution_count": null,
   "id": "96378a9f",
   "metadata": {},
   "outputs": [],
   "source": [
    "pre=2*np.pi\n",
    "N_=1\n",
    "#totol number of time step\n",
    "mem_ma_Nfixed=[[],[]]\n",
    "#first is average value,secind is standard deivation\n",
    "h_dims=np.array([1500])\n",
    "for dim in h_dims:\n",
    "    mem_temp = %memit -r1 -i0.0001 -o simulation(1, dim, 6, 6 * pre, 3 * pre, -0.225 * pre, 0.1 * pre, 0.25, 1,\"HG\")\n",
    "    mem_temp=np.array(mem_temp.mem_usage)\n",
    "    mem_ma_Nfixed[0].append(np.average(mem_temp))\n",
    "    mem_ma_Nfixed[1].append(np.std(mem_temp))"
   ]
  },
  {
   "cell_type": "code",
   "execution_count": null,
   "id": "b2f179df",
   "metadata": {},
   "outputs": [],
   "source": [
    "pre=2*np.pi\n",
    "N_=1\n",
    "#totol number of time step\n",
    "mem_ma_Nfixed=[[],[]]\n",
    "#first is average value,secind is standard deivation\n",
    "h_dims=np.array([1500,1800,2100,2400,2700])\n",
    "for dim in h_dims:\n",
    "    mem_temp = %memit -r1 -i0.0001 -o simulation(1, dim, 6, 6 * pre, 3 * pre, -0.225 * pre, 0.1 * pre, 0.25, 1,\"SAD\")\n",
    "    mem_temp=np.array(mem_temp.mem_usage)\n",
    "    mem_ma_Nfixed[0].append(np.average(mem_temp))\n",
    "    mem_ma_Nfixed[1].append(np.std(mem_temp))\n",
    "\n",
    "        "
   ]
  },
  {
   "cell_type": "code",
   "execution_count": null,
   "id": "652a4a77",
   "metadata": {},
   "outputs": [],
   "source": [
    "pre=2*np.pi\n",
    "N_=1\n",
    "#totol number of time step\n",
    "mem_ma_Nfixed=[[],[]]\n",
    "#first is average value,secind is standard deivation\n",
    "h_dims=np.array([1500])\n",
    "for dim in h_dims:\n",
    "    mem_temp = %memit -r1 -i0.0001 -o simulation(1, dim, 6, 6 * pre, 3 * pre, -0.225 * pre, 0.1 * pre, 0.25, 1,\"AD\")\n",
    "    mem_temp=np.array(mem_temp.mem_usage)\n",
    "    mem_ma_Nfixed[0].append(np.average(mem_temp))\n",
    "    mem_ma_Nfixed[1].append(np.std(mem_temp))"
   ]
  }
 ],
 "metadata": {
  "kernelspec": {
   "display_name": "PyCharm (qoc)",
   "language": "python",
   "name": "pycharm-37b75a1e"
  },
  "language_info": {
   "codemirror_mode": {
    "name": "ipython",
    "version": 3
   },
   "file_extension": ".py",
   "mimetype": "text/x-python",
   "name": "python",
   "nbconvert_exporter": "python",
   "pygments_lexer": "ipython3",
   "version": "3.6.12"
  }
 },
 "nbformat": 4,
 "nbformat_minor": 5
}
