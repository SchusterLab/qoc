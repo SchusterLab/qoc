{
 "cells": [
  {
   "cell_type": "code",
   "execution_count": 6,
   "id": "d8de5968",
   "metadata": {},
   "outputs": [],
   "source": [
    "%load_ext memory_profiler\n",
    "from hg_benchmark.state_transfer import simulation\n",
    "import numpy as np"
   ]
  },
  {
   "cell_type": "code",
   "execution_count": null,
   "id": "04682612",
   "metadata": {},
   "outputs": [],
   "source": [
    "pre=2*np.pi\n",
    "N_=[2000,2300,2600,2900,3200]\n",
    "#totol number of time step\n",
    "mem_ma_Nfixed=[[],[]]\n",
    "#first is average value,secind is standard deivation\n",
    "h_dim=40\n",
    "for N in N_:\n",
    "    mem_temp = %memit -r1 -i0.0001 -o simulation(1, h_dim, 6, 6 * pre, 3 * pre, -0.225 * pre, 0.1 * pre, 0.25*N, N,\"AD\")\n",
    "    mem_temp=np.array(mem_temp.mem_usage)\n",
    "    mem_ma_Nfixed[0].append(np.average(mem_temp))\n",
    "    mem_ma_Nfixed[1].append(np.std(mem_temp))\n",
    "        "
   ]
  },
  {
   "cell_type": "code",
   "execution_count": null,
   "id": "6b6439b5",
   "metadata": {},
   "outputs": [],
   "source": [
    "pre=2*np.pi\n",
    "N_=[2000,2300,2600,2900,3200]\n",
    "#totol number of time step\n",
    "mem_ma_Nfixed=[[],[]]\n",
    "#first is average value,secind is standard deivation\n",
    "h_dim=40\n",
    "for N in N_:\n",
    "    mem_temp = %memit -r1 -i0.0001 -o simulation(1, h_dim, 6, 6 * pre, 3 * pre, -0.225 * pre, 0.1 * pre, 0.25*N, N,\"HG\")\n",
    "    mem_temp=np.array(mem_temp.mem_usage)\n",
    "    mem_ma_Nfixed[0].append(np.average(mem_temp))\n",
    "    mem_ma_Nfixed[1].append(np.std(mem_temp))\n",
    "        "
   ]
  },
  {
   "cell_type": "code",
   "execution_count": null,
   "id": "007fb73b",
   "metadata": {},
   "outputs": [],
   "source": [
    "pre=2*np.pi\n",
    "N_=[2000,2300,2600,2900,3200]\n",
    "#totol number of time step\n",
    "mem_ma_Nfixed=[[],[]]\n",
    "#first is average value,secind is standard deivation\n",
    "h_dim=40\n",
    "for N in N_:\n",
    "    mem_temp = %memit -r1 -i0.0001 -o simulation(1, h_dim, 6, 6 * pre, 3 * pre, -0.225 * pre, 0.1 * pre, 0.25*N, N,\"SAD\")\n",
    "    mem_temp=np.array(mem_temp.mem_usage)\n",
    "    mem_ma_Nfixed[0].append(np.average(mem_temp))\n",
    "    mem_ma_Nfixed[1].append(np.std(mem_temp))\n",
    "        "
   ]
  }
 ],
 "metadata": {
  "kernelspec": {
   "display_name": "Python 3 (ipykernel)",
   "language": "python",
   "name": "python3"
  },
  "language_info": {
   "codemirror_mode": {
    "name": "ipython",
    "version": 3
   },
   "file_extension": ".py",
   "mimetype": "text/x-python",
   "name": "python",
   "nbconvert_exporter": "python",
   "pygments_lexer": "ipython3",
   "version": "3.8.3"
  }
 },
 "nbformat": 4,
 "nbformat_minor": 5
}
