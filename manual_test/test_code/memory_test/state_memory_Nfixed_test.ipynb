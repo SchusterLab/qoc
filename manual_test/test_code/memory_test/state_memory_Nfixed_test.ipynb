{
 "cells": [
  {
   "cell_type": "code",
   "execution_count": 1,
   "id": "acebb3ed",
   "metadata": {},
   "outputs": [],
   "source": [
    "from qoc.state_transfer import simulation\n",
    "import numpy as np\n",
    "%load_ext memory_profiler"
   ]
  },
  {
   "cell_type": "code",
   "execution_count": null,
   "id": "c2655877",
   "metadata": {},
   "outputs": [],
   "source": [
    "pre=2*np.pi\n",
    "N_=40\n",
    "#totol number of time step\n",
    "mem_ma_Nfixed=[[],[]]\n",
    "#first is average value,secind is standard deivation\n",
    "h_dims=np.array([100,150,200,250,300,350,400])\n",
    "for dim in h_dims:\n",
    "    mem_temp = %memit -r1 -i0.0001 -o simulation(1, dim, 6, 6 * pre, 3 * pre, -0.225 * pre, 0.1 * pre, 10, 40,\"AG\")\n",
    "    mem_temp=np.array(mem_temp.mem_usage)\n",
    "    mem_ma_Nfixed[0].append(np.average(mem_temp))\n",
    "    mem_ma_Nfixed[1].append(np.std(mem_temp))\n",
    "\n",
    "        "
   ]
  },
  {
   "cell_type": "code",
   "execution_count": null,
   "id": "542fa5ed",
   "metadata": {},
   "outputs": [],
   "source": [
    "pre=2*np.pi\n",
    "N_=40\n",
    "#totol number of time step\n",
    "mem_ma_Nfixed=[[],[]]\n",
    "#first is average value,secind is standard deivation\n",
    "h_dims=np.array([100,150,200,250,300,350,400])\n",
    "for dim in h_dims:\n",
    "    mem_temp = %memit -r1 -i0.0001 -o simulation(1, dim, 6, 6 * pre, 3 * pre, -0.225 * pre, 0.1 * pre, 10, 40,\"AD\")\n",
    "    mem_temp=np.array(mem_temp.mem_usage)\n",
    "    mem_ma_Nfixed[0].append(np.average(mem_temp))\n",
    "    mem_ma_Nfixed[1].append(np.std(mem_temp))\n",
    "\n",
    "        "
   ]
  }
 ],
 "metadata": {
  "kernelspec": {
   "display_name": "Python 3",
   "language": "python",
   "name": "python3"
  },
  "language_info": {
   "codemirror_mode": {
    "name": "ipython",
    "version": 3
   },
   "file_extension": ".py",
   "mimetype": "text/x-python",
   "name": "python",
   "nbconvert_exporter": "python",
   "pygments_lexer": "ipython3",
   "version": "3.6.12"
  }
 },
 "nbformat": 4,
 "nbformat_minor": 5
}
