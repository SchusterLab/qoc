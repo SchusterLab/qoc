{
 "cells": [
  {
   "cell_type": "code",
   "execution_count": 1,
   "id": "99c3b903",
   "metadata": {},
   "outputs": [],
   "source": [
    "from qoc.state_transfer import simulation\n",
    "import numpy as np\n",
    "%load_ext memory_profiler"
   ]
  },
  {
   "cell_type": "code",
   "execution_count": 2,
   "id": "cefaf29b",
   "metadata": {},
   "outputs": [
    {
     "name": "stdout",
     "output_type": "stream",
     "text": [
      "iter   |   total error  |    grads_l2   \n",
      "=========================================\n",
      "  0    | 9.61240649e-01 | 1.78939372e-02\n",
      "iter   |   total error  |    grads_l2   \n",
      "=========================================\n",
      "  0    | 9.61240649e-01 | 1.78939372e-02\n",
      "iter   |   total error  |    grads_l2   \n",
      "=========================================\n",
      "  0    | 9.61240649e-01 | 1.78939372e-02\n",
      "iter   |   total error  |    grads_l2   \n",
      "=========================================\n",
      "  0    | 9.61240649e-01 | 1.78939372e-02\n",
      "iter   |   total error  |    grads_l2   \n",
      "=========================================\n",
      "  0    | 9.61240649e-01 | 1.78939372e-02\n",
      "iter   |   total error  |    grads_l2   \n",
      "=========================================\n",
      "  0    | 9.61240649e-01 | 1.78939372e-02\n",
      "iter   |   total error  |    grads_l2   \n",
      "=========================================\n",
      "  0    | 9.61240649e-01 | 1.78939372e-02\n",
      "iter   |   total error  |    grads_l2   \n",
      "=========================================\n",
      "  0    | 9.61240649e-01 | 1.78939372e-02\n",
      "iter   |   total error  |    grads_l2   \n",
      "=========================================\n",
      "  0    | 9.61240649e-01 | 1.78939372e-02\n",
      "iter   |   total error  |    grads_l2   \n",
      "=========================================\n",
      "  0    | 9.61240649e-01 | 1.78939372e-02\n",
      "peak memory: 180.80 MiB, increment: 7.32 MiB\n"
     ]
    }
   ],
   "source": [
    "pre=2*np.pi\n",
    "N_=[50]\n",
    "#totol number of time step\n",
    "mem_ma_Nfixed=[[],[]]\n",
    "#first is average value,secind is standard deivation\n",
    "h_dim=600\n",
    "for N in N_:\n",
    "    mem_temp = %memit -r10 -i0.0001 -o simulation(1, h_dim, 6, 6 * pre, 3 * pre, -0.225 * pre, 0.1 * pre, 10, N,\"AG\")\n",
    "    mem_temp=np.array(mem_temp.mem_usage)\n",
    "    mem_ma_Nfixed[0].append(np.average(mem_temp))\n",
    "    mem_ma_Nfixed[1].append(np.std(mem_temp))\n",
    "        "
   ]
  },
  {
   "cell_type": "code",
   "execution_count": null,
   "id": "aec37c1e",
   "metadata": {},
   "outputs": [
    {
     "name": "stdout",
     "output_type": "stream",
     "text": [
      "iter   |   total error  |    grads_l2   \n",
      "=========================================\n"
     ]
    },
    {
     "name": "stderr",
     "output_type": "stream",
     "text": [
      "Process MemTimer-5:\n",
      "Traceback (most recent call last):\n",
      "  File \"/Users/apple/miniconda3/envs/python36/lib/python3.6/multiprocessing/process.py\", line 258, in _bootstrap\n",
      "    self.run()\n",
      "  File \"/Users/apple/miniconda3/envs/python36/lib/python3.6/site-packages/memory_profiler.py\", line 225, in run\n",
      "    stop = self.pipe.poll(self.interval)\n",
      "  File \"/Users/apple/miniconda3/envs/python36/lib/python3.6/multiprocessing/connection.py\", line 257, in poll\n",
      "    return self._poll(timeout)\n",
      "  File \"/Users/apple/miniconda3/envs/python36/lib/python3.6/multiprocessing/connection.py\", line 414, in _poll\n",
      "    r = wait([self], timeout)\n",
      "  File \"/Users/apple/miniconda3/envs/python36/lib/python3.6/multiprocessing/connection.py\", line 911, in wait\n",
      "    ready = selector.select(timeout)\n",
      "  File \"/Users/apple/miniconda3/envs/python36/lib/python3.6/selectors.py\", line 376, in select\n",
      "    fd_event_list = self._poll.poll(timeout)\n",
      "KeyboardInterrupt\n"
     ]
    }
   ],
   "source": [
    "pre=2*np.pi\n",
    "N_=[50,100,150,200,250,300]\n",
    "#totol number of time step\n",
    "mem_ma_Nfixed=[[],[]]\n",
    "#first is average value,secind is standard deivation\n",
    "h_dim=600\n",
    "for N in N_:\n",
    "    mem_temp = %memit -r1 -i0.0001 -o simulation(1, h_dim, 6, 6 * pre, 3 * pre, -0.225 * pre, 0.1 * pre, 10, N,\"AD\")\n",
    "    mem_temp=np.array(mem_temp.mem_usage)\n",
    "    mem_ma_Nfixed[0].append(np.average(mem_temp))\n",
    "    mem_ma_Nfixed[1].append(np.std(mem_temp))"
   ]
  },
  {
   "cell_type": "code",
   "execution_count": null,
   "id": "7a6f0695",
   "metadata": {},
   "outputs": [],
   "source": []
  }
 ],
 "metadata": {
  "kernelspec": {
   "display_name": "Python 3",
   "language": "python",
   "name": "python3"
  },
  "language_info": {
   "codemirror_mode": {
    "name": "ipython",
    "version": 3
   },
   "file_extension": ".py",
   "mimetype": "text/x-python",
   "name": "python",
   "nbconvert_exporter": "python",
   "pygments_lexer": "ipython3",
   "version": "3.6.12"
  }
 },
 "nbformat": 4,
 "nbformat_minor": 5
}
