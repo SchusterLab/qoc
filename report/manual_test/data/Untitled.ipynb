{
 "cells": [
  {
   "cell_type": "code",
   "execution_count": 1,
   "metadata": {},
   "outputs": [],
   "source": [
    "from qutip import *"
   ]
  },
  {
   "cell_type": "code",
   "execution_count": 5,
   "metadata": {},
   "outputs": [
    {
     "name": "stdout",
     "output_type": "stream",
     "text": [
      "Loaded list object.\n"
     ]
    },
    {
     "data": {
      "text/plain": [
       "[3,\n",
       " [2200, 2300, 2400, 2500],\n",
       " [[68.34506601257404, 77.66899752619986, 88.01528543199724, 99.24026863540057],\n",
       "  [0.08486041811033655,\n",
       "   0.09417949822649206,\n",
       "   0.06654724531065442,\n",
       "   0.04554269749462781]],\n",
       " [[37.44724965042745, 42.65803974777615, 47.97703521576866, 52.68354757598912],\n",
       "  [0.08425048311931985,\n",
       "   0.02381566466617253,\n",
       "   0.09410827799073083,\n",
       "   0.08037436868937953]]]"
      ]
     },
     "execution_count": 5,
     "metadata": {},
     "output_type": "execute_result"
    }
   ],
   "source": [
    "qload('haku_lfixed')"
   ]
  },
  {
   "cell_type": "code",
   "execution_count": null,
   "metadata": {},
   "outputs": [],
   "source": []
  }
 ],
 "metadata": {
  "kernelspec": {
   "display_name": "Python 3",
   "language": "python",
   "name": "python3"
  },
  "language_info": {
   "codemirror_mode": {
    "name": "ipython",
    "version": 3
   },
   "file_extension": ".py",
   "mimetype": "text/x-python",
   "name": "python",
   "nbconvert_exporter": "python",
   "pygments_lexer": "ipython3",
   "version": "3.6.12"
  }
 },
 "nbformat": 4,
 "nbformat_minor": 4
}
