{
 "cells": [
  {
   "cell_type": "code",
   "execution_count": 1,
   "metadata": {},
   "outputs": [],
   "source": [
    "import scipy as sci\n",
    "import numpy as np\n",
    "from qoc.standard import (\n",
    "                          get_annihilation_operator,\n",
    "                          get_creation_operator,\n",
    "                          )\n",
    "import sys\n",
    "from qoc.standard.functions.expm_manual import expm_pade\n",
    "from scipy.sparse.linalg import expm_multiply,expm\n",
    "from scipy.sparse import dia_matrix,bsr_matrix\n",
    "from qoc.core.common import expm_frechet\n",
    "%load_ext line_profiler\n",
    "\n",
    "def pade(state):\n",
    "    HILBERT_SIZE=1000\n",
    "    ANNIHILATION_OPERATOR = get_annihilation_operator(HILBERT_SIZE)\n",
    "    CREATION_OPERATOR = get_creation_operator(HILBERT_SIZE)\n",
    "    H0=np.matmul(CREATION_OPERATOR,ANNIHILATION_OPERATOR)+0.1*(ANNIHILATION_OPERATOR+CREATION_OPERATOR)\n",
    "    A=-1j*0.1*H0\n",
    "    propagator=expm_pade(A)\n",
    "\n",
    "    return np.matmul(propagator,state)\n",
    "\n",
    "def krylov(state):\n",
    "    HILBERT_SIZE = 1000\n",
    "    ANNIHILATION_OPERATOR = get_annihilation_operator(HILBERT_SIZE)\n",
    "    CREATION_OPERATOR = get_creation_operator(HILBERT_SIZE)\n",
    "    H0 = np.matmul(CREATION_OPERATOR, ANNIHILATION_OPERATOR) + 0.1 * (ANNIHILATION_OPERATOR + CREATION_OPERATOR)\n",
    "    A = -1j * 0.1 * H0\n",
    "    state=expm_multiply(A,state)\n",
    "    return state\n",
    "def sci_expm(state):\n",
    "    HILBERT_SIZE = 100\n",
    "    diagnol=np.arange(HILBERT_SIZE)\n",
    "    up_diagnol=np.sqrt(diagnol)\n",
    "    low_diagnol=np.sqrt(np.arange(1,HILBERT_SIZE+1))\n",
    "    data=[low_diagnol,diagnol,up_diagnol]\n",
    "    offsets=[-1,0,1]\n",
    "    A=-1j*0.1*dia_matrix((data, offsets),shape=(HILBERT_SIZE,HILBERT_SIZE)).tocsc()\n",
    "    B=-1j*0.1*dia_matrix(([low_diagnol,up_diagnol], [-1,1]),shape=(HILBERT_SIZE,HILBERT_SIZE)).tocsc()\n",
    "    state=expm(A)*state\n",
    "    return state\n",
    "def krylov_sparse(state):\n",
    "    HILBERT_SIZE = 3000\n",
    "    diagnol=np.arange(HILBERT_SIZE)\n",
    "    up_diagnol=np.sqrt(diagnol)\n",
    "    low_diagnol=np.sqrt(np.arange(1,HILBERT_SIZE+1))\n",
    "    data=[low_diagnol,diagnol,up_diagnol]\n",
    "    offsets=[-1,0,1]\n",
    "    A=-1j*0.1*dia_matrix((data, offsets),shape=(HILBERT_SIZE,HILBERT_SIZE))\n",
    "    state=expm_multiply(A,state)\n",
    "    return state\n",
    "def derivative_Expansion():\n",
    "    HILBERT_SIZE = 10000\n",
    "    diagnol = np.arange(HILBERT_SIZE)\n",
    "    up_diagnol = np.sqrt(diagnol)\n",
    "    low_diagnol = np.sqrt(np.arange(1, HILBERT_SIZE + 1))\n",
    "    data = [low_diagnol, diagnol, up_diagnol]\n",
    "    offsets = [-1, 0, 1]\n",
    "    A = dia_matrix((data, offsets), shape=(HILBERT_SIZE, HILBERT_SIZE)).todense()\n",
    "    B = dia_matrix(([low_diagnol, up_diagnol], [-1, 1]), shape=(HILBERT_SIZE, HILBERT_SIZE)).todense()\n",
    "    c = np.block([[A, B], [np.zeros_like(A), A]])\n",
    "    c=bsr_matrix(c).tocsc()\n",
    "    return expm(c)\n",
    "def frechet():\n",
    "    HILBERT_SIZE = 1000\n",
    "    ANNIHILATION_OPERATOR = get_annihilation_operator(HILBERT_SIZE)\n",
    "    CREATION_OPERATOR = get_creation_operator(HILBERT_SIZE)\n",
    "    H0 = np.matmul(CREATION_OPERATOR, ANNIHILATION_OPERATOR) + 0.1 * (ANNIHILATION_OPERATOR + CREATION_OPERATOR)\n",
    "    A = -1j * 0.1 * H0\n",
    "    E=  -1j * 0.1 * (ANNIHILATION_OPERATOR + CREATION_OPERATOR)\n",
    "    expm_frechet(A,E)\n",
    "dim=1000\n",
    "state=np.sqrt(1/dim)*np.zeros(dim)\n",
    "\n",
    "\n",
    "np.set_printoptions(threshold=sys.maxsize)\n",
    "#a=pade(state)\n",
    "#b=sci_expm(state)\n",
    "\n"
   ]
  },
  {
   "cell_type": "code",
   "execution_count": 5,
   "metadata": {},
   "outputs": [
    {
     "name": "stdout",
     "output_type": "stream",
     "text": [
      "14min 22s ± 0 ns per loop (mean ± std. dev. of 1 run, 1 loop each)\n"
     ]
    }
   ],
   "source": [
    "%timeit -r 1 -n 1  derivative_Expansion()"
   ]
  },
  {
   "cell_type": "code",
   "execution_count": 12,
   "metadata": {},
   "outputs": [
    {
     "name": "stdout",
     "output_type": "stream",
     "text": [
      "39.6 ms ± 2.33 ms per loop (mean ± std. dev. of 10 runs, 10 loops each)\n"
     ]
    }
   ],
   "source": [
    "%timeit -r 10 -n 10  krylov(state)"
   ]
  },
  {
   "cell_type": "code",
   "execution_count": 16,
   "metadata": {},
   "outputs": [
    {
     "name": "stdout",
     "output_type": "stream",
     "text": [
      "824 ms ± 0 ns per loop (mean ± std. dev. of 1 run, 3 loops each)\n"
     ]
    }
   ],
   "source": [
    "%timeit -r 1 -n 3  pade(state)"
   ]
  },
  {
   "cell_type": "code",
   "execution_count": 2,
   "metadata": {},
   "outputs": [
    {
     "name": "stdout",
     "output_type": "stream",
     "text": [
      "2.51 s ± 0 ns per loop (mean ± std. dev. of 1 run, 1 loop each)\n"
     ]
    }
   ],
   "source": [
    "%timeit -r 1 -n 1  frechet()"
   ]
  },
  {
   "cell_type": "code",
   "execution_count": null,
   "metadata": {},
   "outputs": [],
   "source": []
  }
 ],
 "metadata": {
  "kernelspec": {
   "display_name": "Python 3",
   "language": "python",
   "name": "python3"
  },
  "language_info": {
   "codemirror_mode": {
    "name": "ipython",
    "version": 3
   },
   "file_extension": ".py",
   "mimetype": "text/x-python",
   "name": "python",
   "nbconvert_exporter": "python",
   "pygments_lexer": "ipython3",
   "version": "3.6.12"
  }
 },
 "nbformat": 4,
 "nbformat_minor": 4
}
