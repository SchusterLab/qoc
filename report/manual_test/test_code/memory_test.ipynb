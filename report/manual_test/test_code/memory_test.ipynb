{
 "cells": [
  {
   "cell_type": "code",
   "execution_count": 1,
   "metadata": {},
   "outputs": [],
   "source": [
    "%reload_ext memory_profiler\n",
    "import autograd.numpy as anp\n",
    "from qoc import grape_schroedinger_discrete\n",
    "from qoc.standard import (TargetStateInfidelity,\n",
    "                          conjugate_transpose,\n",
    "                          get_annihilation_operator,\n",
    "                          get_creation_operator,\n",
    "                          SIGMA_Z,\n",
    "                          generate_save_file_path, )\n",
    "from memory_profiler import profile\n",
    "import numpy as np\n",
    "\n",
    "from qutip import (qsave,qload)\n",
    "import matplotlib.pyplot as plt\n",
    "from scipy.sparse import dia_matrix\n",
    "%matplotlib inline"
   ]
  },
  {
   "cell_type": "code",
   "execution_count": 2,
   "metadata": {},
   "outputs": [],
   "source": [
    "\n",
    "\n",
    "# Define the system.\n",
    "def get_memory_manually(N,l):\n",
    "    \"\"\"\n",
    "    0_transmon_pi.py - This module demonstrates\n",
    "    a simple example of grape on the schroedinger equation\n",
    "    using time discrete control parameters to evolve a transmon qubit\n",
    "    form the ground state to the first excited state.\n",
    "    \"\"\"\n",
    "\n",
    "\n",
    "    HILBERT_SIZE = l\n",
    "    # E.q. 19 (p. 6) of https://arxiv.org/abs/1904.06560.\n",
    "    # E.q. 19 (p. 6) of https://arxiv.org/abs/1904.06560.\n",
    "    diagnol=np.arange(HILBERT_SIZE)\n",
    "    up_diagnol = np.sqrt(diagnol)\n",
    "    low_diagnol = np.sqrt(np.arange(1, HILBERT_SIZE + 1))\n",
    "    state = (1 / np.sqrt(HILBERT_SIZE)) * np.ones(HILBERT_SIZE)\n",
    "    data = [low_diagnol, diagnol, up_diagnol]\n",
    "    offsets = [-1, 0, 1]\n",
    "    H_SYSTEM_0= dia_matrix((data, offsets), shape=(HILBERT_SIZE, HILBERT_SIZE))\n",
    "    sigmax = dia_matrix(([low_diagnol, up_diagnol], [-1, 1]), shape=(HILBERT_SIZE, HILBERT_SIZE))\n",
    "    # Only real control amplitutdes are supported!\n",
    "    hamiltonian = lambda controls, time: (H_SYSTEM_0\n",
    "                                          + controls[0] * sigmax)\n",
    "\n",
    "    # Define the problem.\n",
    "    CAVITY_VACUUM = anp.zeros((l, 1))\n",
    "    CAVITY_ZERO = anp.copy(CAVITY_VACUUM)\n",
    "    CAVITY_ZERO[0, 0] = 1\n",
    "    CAVITY_ONE = anp.copy(CAVITY_VACUUM)\n",
    "    CAVITY_ONE[1, 0] = 1\n",
    "    CAVITY_VACUUM= anp.zeros((l, 1))\n",
    "\n",
    "    INITIAL_STATE_0=anp.copy(CAVITY_VACUUM)\n",
    "    INITIAL_STATE_0[0,0]=1\n",
    "    TARGET_STATE_0 = anp.copy(CAVITY_VACUUM)\n",
    "    TARGET_STATE_0[1,0]=1\n",
    "    INITIAL_STATES = anp.stack((INITIAL_STATE_0,), axis=0)\n",
    "    TARGET_STATES = anp.stack((TARGET_STATE_0,), axis=0)\n",
    "    COSTS = [TargetStateInfidelity(TARGET_STATES)]\n",
    "\n",
    "    # Define the optimization.\n",
    "    COMPLEX_CONTROLS = False\n",
    "    CONTROL_COUNT = 1\n",
    "    EVOLUTION_TIME = 10  # nanoseconds\n",
    "    CONTROL_EVAL_COUNT = SYSTEM_EVAL_COUNT = N + 1\n",
    "    ITERATION_COUNT = 1\n",
    "\n",
    "    # Define output.\n",
    "    LOG_ITERATION_STEP = 1\n",
    "    SAVE_ITERATION_STEP = 1\n",
    "    SAVE_PATH = \"./out\"\n",
    "    SAVE_FILE_NAME = \"transmon_pi\"\n",
    "    SAVE_FILE_PATH = generate_save_file_path(SAVE_FILE_NAME, SAVE_PATH)\n",
    "    CONTROL_HAMILTONIAN = [sigmax]\n",
    "\n",
    "    manual_parameter = {\"control_hamiltonian\": CONTROL_HAMILTONIAN, \"manual_gradient_mode\": True}\n",
    "\n",
    "    def main():\n",
    "        result = grape_schroedinger_discrete(CONTROL_COUNT, CONTROL_EVAL_COUNT,\n",
    "                                             COSTS, EVOLUTION_TIME, hamiltonian,\n",
    "                                             INITIAL_STATES, SYSTEM_EVAL_COUNT,\n",
    "                                             complex_controls=COMPLEX_CONTROLS,\n",
    "                                             iteration_count=ITERATION_COUNT,\n",
    "                                             log_iteration_step=LOG_ITERATION_STEP,\n",
    "                                             manual_parameter=manual_parameter\n",
    "                                             )\n",
    "    if __name__ == \"__main__\":\n",
    "        main()\n",
    "\n",
    "def memory_plot_Nfixed(N,l,time_ad,time_ma):\n",
    "    fig, ax = plt.subplots()\n",
    "    x = (np.array(l))**2 \n",
    "    y = np.array(time_ad[0]) \n",
    "    fit = np.polyfit(x,y,1)\n",
    "    ang_coeff = fit[0]\n",
    "    intercept = fit[1]\n",
    "    fit_eq = ang_coeff*x + intercept  \n",
    "    ax.errorbar(x, time_ad[0], yerr = time_ad[1],fmt='o',color='C0',label='Auto-grad average points')\n",
    "    ax.plot(x, fit_eq,color='C0', alpha = 0.5, label = 'Auto-grad Linear fit')\n",
    "    print('AD '+\"slope is \"+str(ang_coeff)+\"and intercept is \"+str(intercept))\n",
    "    maximum_ad=int(np.sqrt((976562.5-intercept)/ang_coeff))\n",
    "    \n",
    "    x = (np.array(l))**2 \n",
    "    y = np.array(time_ma[0]) \n",
    "    fit = np.polyfit(x,y,1)\n",
    "    ang_coeff = fit[0]\n",
    "    intercept = fit[1]\n",
    "    fit_eq = ang_coeff*x + intercept \n",
    "    ax.plot(x, fit_eq,color = 'C1', alpha = 0.5, label = 'Manual Linear fit')\n",
    "    ax.errorbar(x, time_ma[0], yerr = time_ad[1],fmt='o',color='C1',label='Manual average points')\n",
    "    print('Manual '+\"slope is \"+str(ang_coeff)+\"and intercept is \"+str(intercept))\n",
    "    ax.legend()\n",
    "    ax.set_ylabel ( \"Memory usage/MiB\")\n",
    "    ax.set_xlabel ('Hilbert space dimension^2')\n",
    "    ax.set_title('Total number of time step is '+str(N))\n",
    "    maximum_ma=int(np.sqrt((976562.5-intercept)/ang_coeff))\n",
    "    print(\"Manual:For 128GB RAM, Maximum Hilbert space dimension which is independent of total number of time step is \"+str(maximum_ma))\n",
    "    print(\"AD:For 128GB RAM, Maximum Hilbert space dimension when total number of time step= \"+str(N) +' is '+ str(maximum_ad))\n",
    "    #ax.set_yscale('log')\n",
    "    #ax.set_xscale('log')\n",
    "    \n",
    "    plt.show()\n",
    "def memory_plot_lfixed(N,l,time_ad,time_ma):\n",
    "    fig, ax = plt.subplots() \n",
    "    x = (np.array(N)) \n",
    "    y = np.array(time_ad[0]) \n",
    "    fit = np.polyfit(x,y,1)\n",
    "    ang_coeff = fit[0]\n",
    "    intercept = fit[1]\n",
    "    fit_eq = ang_coeff*x + intercept\n",
    "    ax.errorbar(x, time_ad[0], yerr = time_ad[1],fmt='o',color='C0',label='Auto-grad average points')\n",
    "    ax.plot(x, fit_eq,color='C0', alpha = 0.5, label = 'Auto-grad Linear fit')\n",
    "    print('AD '+\"slope is \"+str(ang_coeff)+\"and intercept is \"+str(intercept))\n",
    "    \n",
    "    x = (np.array(N)) \n",
    "    y = np.array(time_ma[0]) \n",
    "    fit = np.polyfit(x,y,1)\n",
    "    ang_coeff = fit[0]\n",
    "    intercept = fit[1]\n",
    "    fit_eq = ang_coeff*x + intercept\n",
    "    ax.errorbar(N, time_ma[0], yerr = time_ad[1],fmt='o',color='C1',label='Manual average points')\n",
    "    ax.plot(x, fit_eq,color='C1', alpha = 0.5, label = 'Auto-grad Linear fit')\n",
    "    print('Manual '+\"slope is \"+str(ang_coeff)+\"and intercept is \"+str(intercept))\n",
    "    ax.set_ylabel ( \"Memory usage/MiB\")\n",
    "    ax.set_xlabel ('Total time number of time step')\n",
    "    ax.set_title('Hilbert space dimension is '+str(l))\n",
    "    #ax.set_yscale('log')\n",
    "    #ax.set_xscale('log')\n",
    "    ax.legend()\n",
    "    plt.savefig('memory_lfixed')\n",
    "    plt.show()\n",
    "\n",
    "\n"
   ]
  },
  {
   "cell_type": "code",
   "execution_count": 3,
   "metadata": {
    "scrolled": true
   },
   "outputs": [
    {
     "name": "stdout",
     "output_type": "stream",
     "text": [
      "iter   |   total error  |    grads_l2   \n",
      "=========================================\n",
      "  0    | 9.48052658e-01 | 2.30448753e-01\n",
      "peak memory: 170.70 MiB, increment: 2.46 MiB\n",
      "iter   |   total error  |    grads_l2   \n",
      "=========================================\n",
      "  0    | 9.48052658e-01 | 2.30448753e-01\n",
      "peak memory: 174.76 MiB, increment: 6.21 MiB\n",
      "iter   |   total error  |    grads_l2   \n",
      "=========================================\n",
      "  0    | 9.48052658e-01 | 2.30448753e-01\n",
      "peak memory: 179.84 MiB, increment: 9.67 MiB\n",
      "iter   |   total error  |    grads_l2   \n",
      "=========================================\n",
      "  0    | 9.48052658e-01 | 2.30448753e-01\n",
      "peak memory: 183.23 MiB, increment: 13.52 MiB\n"
     ]
    }
   ],
   "source": [
    "N_=1\n",
    "mem_ma_Nfixed=[[],[]]\n",
    "h_dims=[1000,2000,3000,4000]\n",
    "for dim in h_dims:\n",
    "    mem_temp = %memit -r1 -i0.0001 -o get_memory_manually(N_,dim)\n",
    "    mem_temp=np.array(mem_temp.mem_usage)\n",
    "    mem_ma_Nfixed[0].append(np.average(mem_temp))\n",
    "    mem_ma_Nfixed[1].append(np.std(mem_temp))\n",
    "\n",
    "        "
   ]
  },
  {
   "cell_type": "code",
   "execution_count": 11,
   "metadata": {},
   "outputs": [
    {
     "name": "stdout",
     "output_type": "stream",
     "text": [
      "AD slope is 0.0036639999999999984and intercept is -1.1949999999999925\n",
      "Max h_dim is 33316459.334061153\n"
     ]
    },
    {
     "data": {
      "image/png": "[encoded data removed]",
      "text/plain": [
       "<Figure size 432x288 with 1 Axes>"
      ]
     },
     "metadata": {
      "needs_background": "light"
     },
     "output_type": "display_data"
    }
   ],
   "source": [
    "h_dims=[1000,2000,3000,4000]\n",
    "fig, ax = plt.subplots()\n",
    "x = (np.array(h_dims))**1\n",
    "y =[2.46,6.21,9.67,13.52]\n",
    "fit = np.polyfit(x,y,1)\n",
    "ang_coeff = fit[0]\n",
    "intercept = fit[1]\n",
    "maximum_ma=(122070.312 -intercept)/ang_coeff\n",
    "fit_eq = ang_coeff*x + intercept  \n",
    "ax.scatter(x,y,color='C0')\n",
    "ax.plot(x, y,color='C0', alpha = 0.5, label = 'new_ma')\n",
    "ax.set_xlabel(\"l\")\n",
    "print('AD '+\"slope is \"+str(ang_coeff)+\"and intercept is \"+str(intercept))\n",
    "print(\"Max h_dim is \"+ str(maximum_ma))"
   ]
  },
  {
   "cell_type": "code",
   "execution_count": 44,
   "metadata": {},
   "outputs": [
    {
     "name": "stdout",
     "output_type": "stream",
     "text": [
      "Manual:For 128GB RAM, Maximum Hilbert space dimension which is independent of total number of time step is 22228\n",
      "AD:For 128GB RAM, Maximum Hilbert space dimension when total number of time step= 3 is 12614\n"
     ]
    },
    {
     "data": {
      "image/png": "[encoded data removed]",
      "text/plain": [
       "<Figure size 432x288 with 1 Axes>"
      ]
     },
     "metadata": {
      "needs_background": "light"
     },
     "output_type": "display_data"
    }
   ],
   "source": [
    "h_dim=[4000,4500,5000,5500]\n",
    "mem_ma_Nfixed=[4203.80859375, 5252.3671875, 6423.37109375, 7716.8203125]\n",
    "mem_ad_Nfixed=[12430.54296875, 15710.76953125, 19339.640625, 23349.51953125]\n",
    "N_=3\n",
    "fig, ax = plt.subplots()\n",
    "x = (np.array(h_dim))**2\n",
    "fit = np.polyfit(x,mem_ma_Nfixed,1)\n",
    "ang_coeff = fit[0]\n",
    "intercept = fit[1]\n",
    "fit_eq = ang_coeff*x + intercept\n",
    "maximum_ma=int(np.sqrt((122070.312 -intercept)/ang_coeff))\n",
    "ax.plot(x, mem_ma_Nfixed, alpha = 0.5, label = 'Manual')\n",
    "ax.scatter(x, mem_ma_Nfixed, alpha = 0.5)\n",
    "print(\"Manual:For 128GB RAM, Maximum Hilbert space dimension which is independent of total number of time step is \"+str(maximum_ma))\n",
    "\n",
    "fit = np.polyfit(x,mem_ad_Nfixed,1)\n",
    "ang_coeff = fit[0]\n",
    "intercept = fit[1]\n",
    "ax.plot(x, mem_ad_Nfixed, alpha = 0.5, label = 'Auto-grad')\n",
    "ax.scatter(x, mem_ad_Nfixed, alpha = 0.5)\n",
    "ax.set_ylabel ( \"Memory usage/MiB\")\n",
    "ax.set_title('Total number of time step is '+str(N_))\n",
    "maximum_ad=int(np.sqrt((122070.312 -intercept)/ang_coeff))\n",
    "ax.set_xlabel ('Hilber space dimension')\n",
    "print(\"AD:For 128GB RAM, Maximum Hilbert space dimension when total number of time step= \"+str(N_) +' is '+ str(maximum_ad))\n",
    "ax.legend()\n",
    "plt.show()"
   ]
  },
  {
   "cell_type": "code",
   "execution_count": 56,
   "metadata": {},
   "outputs": [
    {
     "data": {
      "image/png": "[encoded data removed]",
      "text/plain": [
       "<Figure size 432x288 with 1 Axes>"
      ]
     },
     "metadata": {
      "needs_background": "light"
     },
     "output_type": "display_data"
    }
   ],
   "source": [
    "time_step=[3,6,9,12]\n",
    "h_dim=4000\n",
    "fig, ax = plt.subplots()\n",
    "mem_ma_lfixed=[4203.80859375,4204.12890625,4204.19218363,4203.98647582,]\n",
    "mem_ad_lfixed=[12430.54296875,19786.24,27175.96,34436.93,]\n",
    "\n",
    "x = (np.array(time_step))\n",
    "ax.plot(x, mem_ma_lfixed, alpha = 0.5, label = 'Manual')\n",
    "ax.scatter(x, mem_ma_lfixed, alpha = 0.5)\n",
    "ax.plot(x, mem_ad_lfixed, alpha = 0.5, label = 'Auto-grad')\n",
    "ax.scatter(x, mem_ad_lfixed, alpha = 0.5)\n",
    "ax.set_ylabel ( \"Memory usage/MiB\")\n",
    "ax.set_title('Total number of time step is '+str(h_dim))\n",
    "\n",
    "ax.set_xlabel ('Total time number of time step')\n",
    "ax.legend()\n",
    "plt.show()"
   ]
  },
  {
   "cell_type": "code",
   "execution_count": null,
   "metadata": {},
   "outputs": [],
   "source": []
  }
 ],
 "metadata": {
  "kernelspec": {
   "display_name": "Python 3",
   "language": "python",
   "name": "python3"
  },
  "language_info": {
   "codemirror_mode": {
    "name": "ipython",
    "version": 3
   },
   "file_extension": ".py",
   "mimetype": "text/x-python",
   "name": "python",
   "nbconvert_exporter": "python",
   "pygments_lexer": "ipython3",
   "version": "3.6.12"
  }
 },
 "nbformat": 4,
 "nbformat_minor": 4
}
