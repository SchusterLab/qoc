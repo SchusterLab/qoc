{
 "cells": [
  {
   "cell_type": "code",
   "execution_count": 1,
   "metadata": {},
   "outputs": [],
   "source": [
    "%reload_ext memory_profiler\n",
    "import autograd.numpy as anp\n",
    "from qoc import grape_schroedinger_discrete\n",
    "from qoc.standard import (TargetStateInfidelity_manual\n",
    "                          conjugate_transpose,\n",
    "                          get_annihilation_operator,\n",
    "                          get_creation_operator,\n",
    "                          SIGMA_Z,\n",
    "                          generate_save_file_path, )\n",
    "from memory_profiler import profile\n",
    "import numpy as np\n",
    "\n",
    "from qutip import (qsave,qload)\n",
    "import matplotlib.pyplot as plt\n",
    "%matplotlib inline"
   ]
  },
  {
   "cell_type": "code",
   "execution_count": 2,
   "metadata": {},
   "outputs": [],
   "source": [
    "def test():\n",
    "    A=np.ones((6000,6000))\n",
    "    B\n",
    "    #np.dot(A,np.dot(A,np.dot(A,A,B),B),B)"
   ]
  },
  {
   "cell_type": "code",
   "execution_count": 2,
   "metadata": {},
   "outputs": [
    {
     "name": "stdout",
     "output_type": "stream",
     "text": [
      "peak memory: 189.14 MiB, increment: 21.51 MiB\n"
     ]
    }
   ],
   "source": [
    "%memit np.identity(6000)"
   ]
  },
  {
   "cell_type": "code",
   "execution_count": 2,
   "metadata": {},
   "outputs": [
    {
     "name": "stdout",
     "output_type": "stream",
     "text": [
      "peak memory: 415.20 MiB, increment: 247.49 MiB\n"
     ]
    }
   ],
   "source": [
    "%memit np.ones((6000,6000))"
   ]
  },
  {
   "cell_type": "code",
   "execution_count": 8,
   "metadata": {},
   "outputs": [],
   "source": [
    "\n",
    "\n",
    "# Define the system.\n",
    "def get_memory_manually(N,l):\n",
    "    \"\"\"\n",
    "    0_transmon_pi.py - This module demonstrates\n",
    "    a simple example of grape on the schroedinger equation\n",
    "    using time discrete control parameters to evolve a transmon qubit\n",
    "    form the ground state to the first excited state.\n",
    "    \"\"\"\n",
    "\n",
    "\n",
    "    HILBERT_SIZE = l\n",
    "    ANNIHILATION_OPERATOR = get_annihilation_operator(HILBERT_SIZE)\n",
    "    CREATION_OPERATOR = get_creation_operator(HILBERT_SIZE)\n",
    "    # E.q. 19 (p. 6) of https://arxiv.org/abs/1904.06560.\n",
    "    sigmax = ANNIHILATION_OPERATOR + CREATION_OPERATOR\n",
    "    # E.q. 19 (p. 6) of https://arxiv.org/abs/1904.06560.\n",
    "    H_SYSTEM_0 = CREATION_OPERATOR*ANNIHILATION_OPERATOR\n",
    "    # Only real control amplitutdes are supported!\n",
    "    hamiltonian = lambda controls, time: (H_SYSTEM_0\n",
    "                                          + controls[0] * sigmax)\n",
    "\n",
    "    # Define the problem.\n",
    "    CAVITY_VACUUM = anp.zeros((l, 1))\n",
    "    CAVITY_ZERO = anp.copy(CAVITY_VACUUM)\n",
    "    CAVITY_ZERO[0, 0] = 1\n",
    "    CAVITY_ONE = anp.copy(CAVITY_VACUUM)\n",
    "    CAVITY_ONE[1, 0] = 1\n",
    "    CAVITY_VACUUM= anp.zeros((l, 1))\n",
    "\n",
    "    INITIAL_STATE_0=anp.copy(CAVITY_VACUUM)\n",
    "    INITIAL_STATE_0[0,0]=1\n",
    "    TARGET_STATE_0 = anp.copy(CAVITY_VACUUM)\n",
    "    TARGET_STATE_0[1,0]=1\n",
    "    INITIAL_STATES = anp.stack((INITIAL_STATE_0,), axis=0)\n",
    "    TARGET_STATES = anp.stack((TARGET_STATE_0,), axis=0)\n",
    "    COSTS = [TargetStateInfidelity_manual(TARGET_STATES)]\n",
    "\n",
    "    # Define the optimization.\n",
    "    COMPLEX_CONTROLS = False\n",
    "    CONTROL_COUNT = 1\n",
    "    EVOLUTION_TIME = 10  # nanoseconds\n",
    "    CONTROL_EVAL_COUNT = SYSTEM_EVAL_COUNT = N + 1\n",
    "    ITERATION_COUNT = 2\n",
    "\n",
    "    # Define output.\n",
    "    LOG_ITERATION_STEP = 1\n",
    "    SAVE_ITERATION_STEP = 1\n",
    "    SAVE_PATH = \"./out\"\n",
    "    SAVE_FILE_NAME = \"transmon_pi\"\n",
    "    SAVE_FILE_PATH = generate_save_file_path(SAVE_FILE_NAME, SAVE_PATH)\n",
    "    CONTROL_HAMILTONIAN = [sigmax]\n",
    "\n",
    "    manual_parameter = {\"control_hamiltonian\": CONTROL_HAMILTONIAN, \"manual_gradient_mode\": True,'Hk_approximation':False}\n",
    "\n",
    "    def main():\n",
    "        result = grape_schroedinger_discrete(CONTROL_COUNT, CONTROL_EVAL_COUNT,\n",
    "                                             COSTS, EVOLUTION_TIME, hamiltonian,\n",
    "                                             INITIAL_STATES, SYSTEM_EVAL_COUNT,\n",
    "                                             complex_controls=COMPLEX_CONTROLS,\n",
    "                                             iteration_count=ITERATION_COUNT,\n",
    "                                             log_iteration_step=LOG_ITERATION_STEP,\n",
    "                                             manual_parameter=manual_parameter\n",
    "                                             )\n",
    "    if __name__ == \"__main__\":\n",
    "        main()\n",
    "\n",
    "def memory_plot_Nfixed(N,l,time_ad,time_ma):\n",
    "    fig, ax = plt.subplots()\n",
    "    x = (np.array(l))**2 \n",
    "    y = np.array(time_ad[0]) \n",
    "    fit = np.polyfit(x,y,1)\n",
    "    ang_coeff = fit[0]\n",
    "    intercept = fit[1]\n",
    "    fit_eq = ang_coeff*x + intercept  \n",
    "    ax.errorbar(x, time_ad[0], yerr = time_ad[1],fmt='o',color='C0',label='Auto-grad average points')\n",
    "    ax.plot(x, fit_eq,color='C0', alpha = 0.5, label = 'Auto-grad Linear fit')\n",
    "    print('AD '+\"slope is \"+str(ang_coeff)+\"and intercept is \"+str(intercept))\n",
    "    maximum_ad=int(np.sqrt((976562.5-intercept)/ang_coeff))\n",
    "    \n",
    "    x = (np.array(l))**2 \n",
    "    y = np.array(time_ma[0]) \n",
    "    fit = np.polyfit(x,y,1)\n",
    "    ang_coeff = fit[0]\n",
    "    intercept = fit[1]\n",
    "    fit_eq = ang_coeff*x + intercept \n",
    "    ax.plot(x, fit_eq,color = 'C1', alpha = 0.5, label = 'Manual Linear fit')\n",
    "    ax.errorbar(x, time_ma[0], yerr = time_ad[1],fmt='o',color='C1',label='Manual average points')\n",
    "    print('Manual '+\"slope is \"+str(ang_coeff)+\"and intercept is \"+str(intercept))\n",
    "    ax.legend()\n",
    "    ax.set_ylabel ( \"Memory usage/MiB\")\n",
    "    ax.set_xlabel ('Hilbert space dimension^2')\n",
    "    ax.set_title('Total number of time step is '+str(N))\n",
    "    maximum_ma=int(np.sqrt((976562.5-intercept)/ang_coeff))\n",
    "    print(\"Manual:For 128GB RAM, Maximum Hilbert space dimension which is independent of total number of time step is \"+str(maximum_ma))\n",
    "    print(\"AD:For 128GB RAM, Maximum Hilbert space dimension when total number of time step= \"+str(N) +' is '+ str(maximum_ad))\n",
    "    #ax.set_yscale('log')\n",
    "    #ax.set_xscale('log')\n",
    "    \n",
    "    plt.show()\n",
    "def memory_plot_lfixed(N,l,time_ad,time_ma):\n",
    "    fig, ax = plt.subplots() \n",
    "    x = (np.array(N)) \n",
    "    y = np.array(time_ad[0]) \n",
    "    fit = np.polyfit(x,y,1)\n",
    "    ang_coeff = fit[0]\n",
    "    intercept = fit[1]\n",
    "    fit_eq = ang_coeff*x + intercept\n",
    "    ax.errorbar(x, time_ad[0], yerr = time_ad[1],fmt='o',color='C0',label='Auto-grad average points')\n",
    "    ax.plot(x, fit_eq,color='C0', alpha = 0.5, label = 'Auto-grad Linear fit')\n",
    "    print('AD '+\"slope is \"+str(ang_coeff)+\"and intercept is \"+str(intercept))\n",
    "    \n",
    "    x = (np.array(N)) \n",
    "    y = np.array(time_ma[0]) \n",
    "    fit = np.polyfit(x,y,1)\n",
    "    ang_coeff = fit[0]\n",
    "    intercept = fit[1]\n",
    "    fit_eq = ang_coeff*x + intercept\n",
    "    ax.errorbar(N, time_ma[0], yerr = time_ad[1],fmt='o',color='C1',label='Manual average points')\n",
    "    ax.plot(x, fit_eq,color='C1', alpha = 0.5, label = 'Auto-grad Linear fit')\n",
    "    print('Manual '+\"slope is \"+str(ang_coeff)+\"and intercept is \"+str(intercept))\n",
    "    ax.set_ylabel ( \"Memory usage/MiB\")\n",
    "    ax.set_xlabel ('Total time number of time step')\n",
    "    ax.set_title('Hilbert space dimension is '+str(l))\n",
    "    #ax.set_yscale('log')\n",
    "    #ax.set_xscale('log')\n",
    "    ax.legend()\n",
    "    plt.savefig('memory_lfixed')\n",
    "    plt.show()\n",
    "\n",
    "\n"
   ]
  },
  {
   "cell_type": "code",
   "execution_count": 3,
   "metadata": {
    "scrolled": true
   },
   "outputs": [
    {
     "name": "stdout",
     "output_type": "stream",
     "text": [
      "iter   |   total error  |    grads_l2   \n",
      "=========================================\n",
      "  0    | 6.32120559e-01 | 2.94652635e-15\n",
      "  1    | 6.32120559e-01 | 4.05644134e-09\n",
      "iter   |   total error  |    grads_l2   \n",
      "=========================================\n",
      "  0    | 6.32120559e-01 | 2.94652635e-15\n",
      "  1    | 6.32120559e-01 | 4.05644134e-09\n",
      "iter   |   total error  |    grads_l2   \n",
      "=========================================\n",
      "  0    | 6.32120559e-01 | 2.94652635e-15\n",
      "  1    | 6.32120559e-01 | 4.05644134e-09\n",
      "iter   |   total error  |    grads_l2   \n",
      "=========================================\n",
      "  0    | 6.32120559e-01 | 2.94652635e-15\n",
      "  1    | 6.32120559e-01 | 4.05644134e-09\n",
      "iter   |   total error  |    grads_l2   \n",
      "=========================================\n",
      "  0    | 6.32120559e-01 | 2.94652635e-15\n",
      "  1    | 6.32120559e-01 | 4.05644134e-09\n",
      "iter   |   total error  |    grads_l2   \n",
      "=========================================\n",
      "  0    | 6.32120559e-01 | 2.94652635e-15\n",
      "  1    | 6.32120559e-01 | 4.05644134e-09\n",
      "iter   |   total error  |    grads_l2   \n",
      "=========================================\n",
      "  0    | 6.32120559e-01 | 2.94652635e-15\n",
      "  1    | 6.32120559e-01 | 4.05644134e-09\n",
      "iter   |   total error  |    grads_l2   \n",
      "=========================================\n",
      "  0    | 6.32120559e-01 | 2.94652635e-15\n",
      "  1    | 6.32120559e-01 | 4.05644134e-09\n",
      "iter   |   total error  |    grads_l2   \n",
      "=========================================\n",
      "  0    | 6.32120559e-01 | 2.94652635e-15\n",
      "  1    | 6.32120559e-01 | 4.05644134e-09\n",
      "iter   |   total error  |    grads_l2   \n",
      "=========================================\n",
      "  0    | 6.32120559e-01 | 2.94652635e-15\n",
      "  1    | 6.32120559e-01 | 4.05644134e-09\n",
      "peak memory: 224.19 MiB, increment: 8.68 MiB\n",
      "iter   |   total error  |    grads_l2   \n",
      "=========================================\n",
      "  0    | 6.32120559e-01 | 2.94652635e-15\n",
      "  1    | 6.32120559e-01 | 4.05644134e-09\n",
      "iter   |   total error  |    grads_l2   \n",
      "=========================================\n",
      "  0    | 6.32120559e-01 | 2.94652635e-15\n",
      "  1    | 6.32120559e-01 | 4.05644134e-09\n",
      "iter   |   total error  |    grads_l2   \n",
      "=========================================\n",
      "  0    | 6.32120559e-01 | 2.94652635e-15\n",
      "  1    | 6.32120559e-01 | 4.05644134e-09\n",
      "iter   |   total error  |    grads_l2   \n",
      "=========================================\n",
      "  0    | 6.32120559e-01 | 2.94652635e-15\n",
      "  1    | 6.32120559e-01 | 4.05644134e-09\n",
      "iter   |   total error  |    grads_l2   \n",
      "=========================================\n",
      "  0    | 6.32120559e-01 | 2.94652635e-15\n",
      "  1    | 6.32120559e-01 | 4.05644134e-09\n",
      "iter   |   total error  |    grads_l2   \n",
      "=========================================\n",
      "  0    | 6.32120559e-01 | 2.94652635e-15\n",
      "  1    | 6.32120559e-01 | 4.05644134e-09\n",
      "iter   |   total error  |    grads_l2   \n",
      "=========================================\n",
      "  0    | 6.32120559e-01 | 2.94652635e-15\n",
      "  1    | 6.32120559e-01 | 4.05644134e-09\n",
      "iter   |   total error  |    grads_l2   \n",
      "=========================================\n",
      "  0    | 6.32120559e-01 | 2.94652635e-15\n",
      "  1    | 6.32120559e-01 | 4.05644134e-09\n",
      "iter   |   total error  |    grads_l2   \n",
      "=========================================\n",
      "  0    | 6.32120559e-01 | 2.94652635e-15\n",
      "  1    | 6.32120559e-01 | 4.05644134e-09\n",
      "iter   |   total error  |    grads_l2   \n",
      "=========================================\n",
      "  0    | 6.32120559e-01 | 2.94652635e-15\n",
      "  1    | 6.32120559e-01 | 4.05644134e-09\n",
      "peak memory: 233.33 MiB, increment: 13.22 MiB\n",
      "iter   |   total error  |    grads_l2   \n",
      "=========================================\n",
      "  0    | 6.32120559e-01 | 2.94652635e-15\n",
      "  1    | 6.32120559e-01 | 4.05644134e-09\n",
      "iter   |   total error  |    grads_l2   \n",
      "=========================================\n",
      "  0    | 6.32120559e-01 | 2.94652635e-15\n",
      "  1    | 6.32120559e-01 | 4.05644134e-09\n",
      "iter   |   total error  |    grads_l2   \n",
      "=========================================\n",
      "  0    | 6.32120559e-01 | 2.94652635e-15\n",
      "  1    | 6.32120559e-01 | 4.05644134e-09\n",
      "iter   |   total error  |    grads_l2   \n",
      "=========================================\n",
      "  0    | 6.32120559e-01 | 2.94652635e-15\n",
      "  1    | 6.32120559e-01 | 4.05644134e-09\n",
      "iter   |   total error  |    grads_l2   \n",
      "=========================================\n",
      "  0    | 6.32120559e-01 | 2.94652635e-15\n",
      "  1    | 6.32120559e-01 | 4.05644134e-09\n",
      "iter   |   total error  |    grads_l2   \n",
      "=========================================\n",
      "  0    | 6.32120559e-01 | 2.94652635e-15\n",
      "  1    | 6.32120559e-01 | 4.05644134e-09\n",
      "iter   |   total error  |    grads_l2   \n",
      "=========================================\n",
      "  0    | 6.32120559e-01 | 2.94652635e-15\n",
      "  1    | 6.32120559e-01 | 4.05644134e-09\n",
      "iter   |   total error  |    grads_l2   \n",
      "=========================================\n",
      "  0    | 6.32120559e-01 | 2.94652635e-15\n",
      "  1    | 6.32120559e-01 | 4.05644134e-09\n",
      "iter   |   total error  |    grads_l2   \n",
      "=========================================\n",
      "  0    | 6.32120559e-01 | 2.94652635e-15\n",
      "  1    | 6.32120559e-01 | 4.05644134e-09\n",
      "iter   |   total error  |    grads_l2   \n",
      "=========================================\n",
      "  0    | 6.32120559e-01 | 2.94652635e-15\n",
      "  1    | 6.32120559e-01 | 4.05644134e-09\n",
      "peak memory: 244.41 MiB, increment: 19.55 MiB\n",
      "iter   |   total error  |    grads_l2   \n",
      "=========================================\n",
      "  0    | 6.32120559e-01 | 2.94652635e-15\n",
      "  1    | 6.32120559e-01 | 4.05644134e-09\n",
      "iter   |   total error  |    grads_l2   \n",
      "=========================================\n",
      "  0    | 6.32120559e-01 | 2.94652635e-15\n",
      "  1    | 6.32120559e-01 | 4.05644134e-09\n",
      "iter   |   total error  |    grads_l2   \n",
      "=========================================\n",
      "  0    | 6.32120559e-01 | 2.94652635e-15\n",
      "  1    | 6.32120559e-01 | 4.05644134e-09\n",
      "iter   |   total error  |    grads_l2   \n",
      "=========================================\n",
      "  0    | 6.32120559e-01 | 2.94652635e-15\n",
      "  1    | 6.32120559e-01 | 4.05644134e-09\n",
      "iter   |   total error  |    grads_l2   \n",
      "=========================================\n",
      "  0    | 6.32120559e-01 | 2.94652635e-15\n",
      "  1    | 6.32120559e-01 | 4.05644134e-09\n",
      "iter   |   total error  |    grads_l2   \n",
      "=========================================\n",
      "  0    | 6.32120559e-01 | 2.94652635e-15\n",
      "  1    | 6.32120559e-01 | 4.05644134e-09\n",
      "iter   |   total error  |    grads_l2   \n",
      "=========================================\n",
      "  0    | 6.32120559e-01 | 2.94652635e-15\n",
      "  1    | 6.32120559e-01 | 4.05644134e-09\n",
      "iter   |   total error  |    grads_l2   \n",
      "=========================================\n",
      "  0    | 6.32120559e-01 | 2.94652635e-15\n",
      "  1    | 6.32120559e-01 | 4.05644134e-09\n",
      "iter   |   total error  |    grads_l2   \n",
      "=========================================\n",
      "  0    | 6.32120559e-01 | 2.94652635e-15\n",
      "  1    | 6.32120559e-01 | 4.05644134e-09\n",
      "iter   |   total error  |    grads_l2   \n",
      "=========================================\n",
      "  0    | 6.32120559e-01 | 2.94652635e-15\n",
      "  1    | 6.32120559e-01 | 4.05644134e-09\n",
      "peak memory: 257.83 MiB, increment: 26.40 MiB\n",
      "iter   |   total error  |    grads_l2   \n",
      "=========================================\n",
      "  0    | 6.32120559e-01 | 2.94652635e-15\n",
      "  1    | 6.32120559e-01 | 4.05644134e-09\n",
      "iter   |   total error  |    grads_l2   \n",
      "=========================================\n",
      "  0    | 6.32120559e-01 | 2.94652635e-15\n",
      "  1    | 6.32120559e-01 | 4.05644134e-09\n",
      "iter   |   total error  |    grads_l2   \n",
      "=========================================\n",
      "  0    | 6.32120559e-01 | 2.94652635e-15\n",
      "  1    | 6.32120559e-01 | 4.05644134e-09\n",
      "iter   |   total error  |    grads_l2   \n",
      "=========================================\n",
      "  0    | 6.32120559e-01 | 2.94652635e-15\n",
      "  1    | 6.32120559e-01 | 4.05644134e-09\n",
      "iter   |   total error  |    grads_l2   \n",
      "=========================================\n",
      "  0    | 6.32120559e-01 | 2.94652635e-15\n",
      "  1    | 6.32120559e-01 | 4.05644134e-09\n",
      "iter   |   total error  |    grads_l2   \n",
      "=========================================\n",
      "  0    | 6.32120559e-01 | 2.94652635e-15\n",
      "  1    | 6.32120559e-01 | 4.05644134e-09\n",
      "iter   |   total error  |    grads_l2   \n",
      "=========================================\n",
      "  0    | 6.32120559e-01 | 2.94652635e-15\n",
      "  1    | 6.32120559e-01 | 4.05644134e-09\n",
      "iter   |   total error  |    grads_l2   \n",
      "=========================================\n",
      "  0    | 6.32120559e-01 | 2.94652635e-15\n",
      "  1    | 6.32120559e-01 | 4.05644134e-09\n",
      "iter   |   total error  |    grads_l2   \n",
      "=========================================\n",
      "  0    | 6.32120559e-01 | 2.94652635e-15\n"
     ]
    },
    {
     "name": "stdout",
     "output_type": "stream",
     "text": [
      "  1    | 6.32120559e-01 | 4.05644134e-09\n",
      "iter   |   total error  |    grads_l2   \n",
      "=========================================\n",
      "  0    | 6.32120559e-01 | 2.94652635e-15\n",
      "  1    | 6.32120559e-01 | 4.05644134e-09\n",
      "peak memory: 270.97 MiB, increment: 42.34 MiB\n"
     ]
    }
   ],
   "source": [
    "N_=10\n",
    "mem_ma_Nfixed=[[],[]]\n",
    "h_dims=[100,150,200,250,300]\n",
    "for dim in h_dims:\n",
    "    mem_temp = %memit -r10 -i0.0001 -o get_memory_manually(N_,dim)\n",
    "    mem_temp=np.array(mem_temp.mem_usage)\n",
    "    mem_ma_Nfixed[0].append(np.average(mem_temp))\n",
    "    mem_ma_Nfixed[1].append(np.std(mem_temp))\n",
    "\n",
    "        "
   ]
  },
  {
   "cell_type": "code",
   "execution_count": 4,
   "metadata": {},
   "outputs": [
    {
     "name": "stdout",
     "output_type": "stream",
     "text": [
      "Loaded list object.\n"
     ]
    }
   ],
   "source": [
    "mem_ad_Nfixed=qload('mem_Nfixed')"
   ]
  },
  {
   "cell_type": "code",
   "execution_count": 9,
   "metadata": {},
   "outputs": [
    {
     "name": "stdout",
     "output_type": "stream",
     "text": [
      "AD slope is 0.0029817378631498445and intercept is 219.31007740825686\n",
      "Manual slope is 0.0005838180905963286and intercept is 219.58771717316503\n",
      "Manual:For 128GB RAM, Maximum Hilbert space dimension which is independent of total number of time step is 40894\n",
      "AD:For 128GB RAM, Maximum Hilbert space dimension when total number of time step= 10 is 18095\n"
     ]
    },
    {
     "data": {
      "image/png": "[encoded data removed]",
      "text/plain": [
       "<Figure size 432x288 with 1 Axes>"
      ]
     },
     "metadata": {
      "needs_background": "light"
     },
     "output_type": "display_data"
    }
   ],
   "source": [
    "memory_plot_Nfixed(N_,h_dims,mem_ad_Nfixed,mem_ma_Nfixed)"
   ]
  },
  {
   "cell_type": "code",
   "execution_count": null,
   "metadata": {},
   "outputs": [],
   "source": [
    "qsave([N_,h_dims,mem_ad_Nfixed,mem_ma_Nfixed],'memory_Nfiexd')"
   ]
  },
  {
   "cell_type": "code",
   "execution_count": 3,
   "metadata": {
    "scrolled": true
   },
   "outputs": [
    {
     "name": "stdout",
     "output_type": "stream",
     "text": [
      "iter   |   total error  |    grads_l2   \n",
      "=========================================\n",
      "  0    | 6.32120559e-01 | 2.94652635e-15\n",
      "  1    | 6.32120559e-01 | 4.05644134e-09\n",
      "iter   |   total error  |    grads_l2   \n",
      "=========================================\n",
      "  0    | 6.32120559e-01 | 2.94652635e-15\n",
      "  1    | 6.32120559e-01 | 4.05644134e-09\n",
      "iter   |   total error  |    grads_l2   \n",
      "=========================================\n",
      "  0    | 6.32120559e-01 | 2.94652635e-15\n",
      "  1    | 6.32120559e-01 | 4.05644134e-09\n",
      "iter   |   total error  |    grads_l2   \n",
      "=========================================\n",
      "  0    | 6.32120559e-01 | 2.94652635e-15\n",
      "  1    | 6.32120559e-01 | 4.05644134e-09\n",
      "iter   |   total error  |    grads_l2   \n",
      "=========================================\n",
      "  0    | 6.32120559e-01 | 2.94652635e-15\n",
      "  1    | 6.32120559e-01 | 4.05644134e-09\n",
      "iter   |   total error  |    grads_l2   \n",
      "=========================================\n",
      "  0    | 6.32120559e-01 | 2.94652635e-15\n",
      "  1    | 6.32120559e-01 | 4.05644134e-09\n",
      "iter   |   total error  |    grads_l2   \n",
      "=========================================\n",
      "  0    | 6.32120559e-01 | 2.94652635e-15\n",
      "  1    | 6.32120559e-01 | 4.05644134e-09\n",
      "iter   |   total error  |    grads_l2   \n",
      "=========================================\n",
      "  0    | 6.32120559e-01 | 2.94652635e-15\n",
      "  1    | 6.32120559e-01 | 4.05644134e-09\n",
      "iter   |   total error  |    grads_l2   \n",
      "=========================================\n",
      "  0    | 6.32120559e-01 | 2.94652635e-15\n",
      "  1    | 6.32120559e-01 | 4.05644134e-09\n",
      "iter   |   total error  |    grads_l2   \n",
      "=========================================\n",
      "  0    | 6.32120559e-01 | 2.94652635e-15\n",
      "  1    | 6.32120559e-01 | 4.05644134e-09\n",
      "peak memory: 242.19 MiB, increment: 27.54 MiB\n",
      "242.0890625\n",
      "0.16518219108003138\n"
     ]
    }
   ],
   "source": [
    "N=[10,30,50,70]\n",
    "mem_ma_lfixed=[[],[]]\n",
    "l=200\n",
    "mem_temp = %memit -r10 -i0.0001 -o get_memory_manually(N[0],l)\n",
    "mem_temp=np.array(mem_temp.mem_usage)\n",
    "print(np.average(mem_temp))\n",
    "print(np.std(mem_temp))"
   ]
  },
  {
   "cell_type": "code",
   "execution_count": 4,
   "metadata": {},
   "outputs": [],
   "source": [
    "mem_ma_lfixed=[[242.251953125,233.971875,232.42890625,232.39921875],[0.22,0.17328787183019329,0.18,0.16]]"
   ]
  },
  {
   "cell_type": "code",
   "execution_count": 7,
   "metadata": {},
   "outputs": [],
   "source": [
    "qsave([N,l,mem_ad_lfixed,mem_ma_lfixed],'memory_lfiexd')"
   ]
  },
  {
   "cell_type": "code",
   "execution_count": 6,
   "metadata": {},
   "outputs": [
    {
     "name": "stdout",
     "output_type": "stream",
     "text": [
      "Loaded list object.\n"
     ]
    }
   ],
   "source": [
    "mem_ad_lfixed=qload('mem_lfixed')"
   ]
  },
  {
   "cell_type": "code",
   "execution_count": 10,
   "metadata": {},
   "outputs": [
    {
     "name": "stdout",
     "output_type": "stream",
     "text": [
      "AD slope is 11.105296875000002and intercept is 226.33753906250016\n",
      "Manual slope is -0.15550585937500028and intercept is 241.48322265625\n"
     ]
    },
    {
     "data": {
      "image/png": "[encoded data removed]",
      "text/plain": [
       "<Figure size 432x288 with 1 Axes>"
      ]
     },
     "metadata": {
      "needs_background": "light"
     },
     "output_type": "display_data"
    }
   ],
   "source": [
    "memory_plot_lfixed(N,l,mem_ad_lfixed,mem_ma_lfixed)"
   ]
  },
  {
   "cell_type": "code",
   "execution_count": null,
   "metadata": {},
   "outputs": [],
   "source": []
  }
 ],
 "metadata": {
  "kernelspec": {
   "display_name": "Python 3",
   "language": "python",
   "name": "python3"
  },
  "language_info": {
   "codemirror_mode": {
    "name": "ipython",
    "version": 3
   },
   "file_extension": ".py",
   "mimetype": "text/x-python",
   "name": "python",
   "nbconvert_exporter": "python",
   "pygments_lexer": "ipython3",
   "version": "3.6.12"
  }
 },
 "nbformat": 4,
 "nbformat_minor": 4
}