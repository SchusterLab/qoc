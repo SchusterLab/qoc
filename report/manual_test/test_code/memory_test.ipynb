{
 "cells": [
  {
   "cell_type": "code",
   "execution_count": null,
   "outputs": [],
   "source": [
    "%reload_ext memory_profiler\n",
    "import autograd.numpy as anp\n",
    "from qoc import grape_schroedinger_discrete\n",
    "from qoc.standard import TargetStateInfidelity\n",
    "from memory_profiler import profile\n",
    "import numpy as np\n",
    "\n",
    "import matplotlib.pyplot as plt\n",
    "from scipy.sparse import dia_matrix\n",
    "%matplotlib inline"
   ],
   "metadata": {
    "collapsed": false,
    "pycharm": {
     "name": "#%%\n"
    }
   }
  },
  {
   "cell_type": "code",
   "execution_count": null,
   "outputs": [],
   "source": [
    "\n",
    "\n",
    "# Define the system.\n",
    "def get_memory_manually(N,l):\n",
    "    \"\"\"\n",
    "    0_transmon_pi.py - This module demonstrates\n",
    "    a simple example of grape on the schroedinger equation\n",
    "    using time discrete control parameters to evolve a transmon qubit\n",
    "    form the ground state to the first excited state.\n",
    "    \"\"\"\n",
    "\n",
    "\n",
    "    HILBERT_SIZE = l\n",
    "    # E.q. 19 (p. 6) of https://arxiv.org/abs/1904.06560.\n",
    "    diagnol=np.arange(HILBERT_SIZE)\n",
    "    up_diagnol = np.sqrt(diagnol)\n",
    "    low_diagnol = np.sqrt(np.arange(1, HILBERT_SIZE + 1))\n",
    "    state = (1 / np.sqrt(HILBERT_SIZE)) * np.ones(HILBERT_SIZE)\n",
    "    data = [low_diagnol, diagnol, up_diagnol]\n",
    "    offsets = [-1, 0, 1]\n",
    "    H_SYSTEM_0= dia_matrix((data, offsets), shape=(HILBERT_SIZE, HILBERT_SIZE))\n",
    "    sigmax = dia_matrix(([low_diagnol, up_diagnol], [-1, 1]), shape=(HILBERT_SIZE, HILBERT_SIZE))\n",
    "    # Only real control amplitutdes are supported!\n",
    "    hamiltonian = lambda controls, time: (H_SYSTEM_0\n",
    "                                          + controls[0] * sigmax)\n",
    "\n",
    "    # Define the problem.\n",
    "    CAVITY_VACUUM = anp.zeros((l, 1))\n",
    "    CAVITY_ZERO = anp.copy(CAVITY_VACUUM)\n",
    "    CAVITY_ZERO[0, 0] = 1\n",
    "    CAVITY_ONE = anp.copy(CAVITY_VACUUM)\n",
    "    CAVITY_ONE[1, 0] = 1\n",
    "    CAVITY_VACUUM= anp.zeros((l, 1))\n",
    "\n",
    "    INITIAL_STATE_0=anp.copy(CAVITY_VACUUM)\n",
    "    INITIAL_STATE_0[0,0]=1\n",
    "    TARGET_STATE_0 = anp.copy(CAVITY_VACUUM)\n",
    "    TARGET_STATE_0[1,0]=1\n",
    "    INITIAL_STATES = anp.stack((INITIAL_STATE_0,), axis=0)\n",
    "    TARGET_STATES = anp.stack((TARGET_STATE_0,), axis=0)\n",
    "    COSTS = [TargetStateInfidelity(TARGET_STATES)]\n",
    "\n",
    "    # Define the optimization.\n",
    "    COMPLEX_CONTROLS = False\n",
    "    CONTROL_COUNT = 1\n",
    "    EVOLUTION_TIME = 1e-6  # nanoseconds\n",
    "    CONTROL_EVAL_COUNT = SYSTEM_EVAL_COUNT = N + 1\n",
    "    ITERATION_COUNT = 1\n",
    "\n",
    "    # Define output.\n",
    "    LOG_ITERATION_STEP = 1\n",
    "    CONTROL_HAMILTONIAN = [sigmax]\n",
    "\n",
    "    MANUAL_PARAMETER = {\"control_hamiltonian\": CONTROL_HAMILTONIAN,\n",
    "                        \"manual_gradient_mode\": True, \"tol\": 1e-6}\n",
    "\n",
    "    def main():\n",
    "        result = grape_schroedinger_discrete(CONTROL_COUNT, CONTROL_EVAL_COUNT,\n",
    "                                             COSTS, EVOLUTION_TIME, hamiltonian,\n",
    "                                             INITIAL_STATES, SYSTEM_EVAL_COUNT,\n",
    "                                             complex_controls=COMPLEX_CONTROLS,\n",
    "                                             iteration_count=ITERATION_COUNT,\n",
    "                                             log_iteration_step=LOG_ITERATION_STEP,\n",
    "                                             manual_parameter=MANUAL_PARAMETER)\n",
    "    if __name__ == \"__main__\":\n",
    "        main()\n",
    "\n",
    "\n",
    "\n",
    "\n"
   ],
   "metadata": {
    "collapsed": false,
    "pycharm": {
     "name": "#%%\n"
    }
   }
  },
  {
   "cell_type": "code",
   "execution_count": null,
   "outputs": [],
   "source": [
    "N_=1\n",
    "#totol number of time step\n",
    "mem_ma_Nfixed=[[],[]]\n",
    "#first is average value,secind is standard deivation\n",
    "h_dims=[1000000,2000000,3000000,4000000]\n",
    "for dim in h_dims:\n",
    "    mem_temp = %memit -r1 -i0.0001 -o get_memory_manually(N_,dim)\n",
    "    mem_temp=np.array(mem_temp.mem_usage)\n",
    "    mem_ma_Nfixed[0].append(np.average(mem_temp))\n",
    "    mem_ma_Nfixed[1].append(np.std(mem_temp))\n",
    "memory_plot(h_dims,mem_ma_Nfixed[0])\n",
    "        "
   ],
   "metadata": {
    "collapsed": false,
    "pycharm": {
     "name": "#%%\n"
    }
   }
  },
  {
   "cell_type": "code",
   "execution_count": null,
   "outputs": [],
   "source": [
    "def memory_plot(h_dim,mem_usage):\n",
    "    fig, ax = plt.subplots()\n",
    "    x = (np.array(h_dims))**1\n",
    "    y = np.array(mem_usage)\n",
    "    fit = np.polyfit(x,y,1)\n",
    "    ang_coeff = fit[0]\n",
    "    intercept = fit[1]\n",
    "    maximum_ma=(122070.312 -intercept)/ang_coeff\n",
    "    fit_eq = ang_coeff*x + intercept  \n",
    "    ax.scatter(x,y,color='C0')\n",
    "    ax.plot(x, y,color='C0', alpha = 0.5, label = 'new_manual')\n",
    "    ax.set_xlabel(\"l\")\n",
    "    ax.set_ylabel(\"memory usage\")\n",
    "    print('AD '+\"slope is \"+str(ang_coeff)+\"and intercept is \"+str(intercept))\n",
    "    print(\"Max h_dim is \"+ str(maximum_ma))\n",
    "    ax.legend()"
   ],
   "metadata": {
    "collapsed": false,
    "pycharm": {
     "name": "#%%\n"
    }
   }
  }
 ],
 "metadata": {
  "kernelspec": {
   "display_name": "Python 3",
   "language": "python",
   "name": "python3"
  },
  "language_info": {
   "codemirror_mode": {
    "name": "ipython",
    "version": 3
   },
   "file_extension": ".py",
   "mimetype": "text/x-python",
   "name": "python",
   "nbconvert_exporter": "python",
   "pygments_lexer": "ipython3",
   "version": "3.6.12"
  }
 },
 "nbformat": 4,
 "nbformat_minor": 4
}