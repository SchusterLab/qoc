{
 "cells": [
  {
   "cell_type": "code",
   "execution_count": 35,
   "id": "03d3efb0",
   "metadata": {},
   "outputs": [],
   "source": [
    "from qutip import qload\n",
    "import numpy as np"
   ]
  },
  {
   "cell_type": "code",
   "execution_count": 59,
   "id": "58278370",
   "metadata": {},
   "outputs": [],
   "source": [
    "def get_command(file_name):\n",
    "    command='temci short exec '\n",
    "    for name in file_name:\n",
    "        command=command+'\"python '+name+'.py\" '\n",
    "    command=command+\"--preset none --runs 20 --sleep\"\n",
    "    return command\n",
    "def get_filename(h_dims):\n",
    "    name=[]\n",
    "    for dim in h_dims:\n",
    "        name.append('ad'+str(dim))\n",
    "        name.append('ma'+str(dim))\n",
    "    return name\n",
    "def get_temci(h_dims):\n",
    "    file_name=get_filename(h_dims)\n",
    "    return get_command(file_name)\n",
    "def get_min(datas):\n",
    "    time_min=[]\n",
    "    datas=np.array(datas)\n",
    "    for i in range(len(datas)):\n",
    "        time_min.append(np.min(datas[i]))\n",
    "    return np.array(time_min)\n",
    "def get_adma(time_min):\n",
    "    ad=[]\n",
    "    ma=[]\n",
    "    time_min=np.reshape(time_min,(2,int(len(time_min)/2)))\n",
    "    for i in range(len(time_min)):\n",
    "        ad.append(time_min[i][0])\n",
    "        ma.append(time_min[i][1])\n",
    "    return np.array(ad),(ma)\n",
    "def get_plot():\n",
    "    data=qload('runtime')\n",
    "    time_min=get_min(datas)\n",
    "    ad,ma=get_adma(time_min)\n",
    "    \n",
    "    h_dims=[150,170,190,200,220,250,300,400,500,600,700,800,900,1000,1100,1200,1300,1400,1500,1600,1700,1800,1900,2000,2100]\n",
    "    fig, ax = plt.subplots()\n",
    "    x = (np.array(h_dims))**3\n",
    "    y =ad\n",
    "    fit = np.polyfit(x,y,1)\n",
    "    ang_coeff = fit[0]\n",
    "    intercept = fit[1]\n",
    "    fit_eq = ang_coeff*x + intercept  \n",
    "    ax.scatter(x,y,color='C0')\n",
    "    ax.plot(x, y,color='C0', alpha = 0.5, label = 'AD')\n",
    "    print('AD '+\"slope is \"+str(ang_coeff)+\"and intercept is \"+str(intercept))\n",
    "\n",
    "    x = (np.array(h_dims))**3\n",
    "    y =ma\n",
    "    fit = np.polyfit(x,y,1)\n",
    "    ang_coeff = fit[0]\n",
    "    intercept = fit[1]\n",
    "    fit_eq = ang_coeff*x + intercept  \n",
    "    ax.scatter(x,y,color='C1')\n",
    "    ax.plot(x, y,color='C1', alpha = 0.5, label = 'MA')\n",
    "    ax.legend()\n",
    "    ax.set_xlabel(\"l^3\")\n",
    "    print('AD '+\"slope is \"+str(ang_coeff)+\"and intercept is \"+str(intercept))\n",
    "    \n",
    "    h_dims=[150,170,190,200,220,250]\n",
    "    ad_small=ad[0:6]\n",
    "    ma_small=ma[0:6]\n",
    "    fig, ax = plt.subplots()\n",
    "    x = (np.array(h_dims))**3\n",
    "    y =ad\n",
    "    fit = np.polyfit(x,y,1)\n",
    "    ang_coeff = fit[0]\n",
    "    intercept = fit[1]\n",
    "    fit_eq = ang_coeff*x + intercept  \n",
    "    ax.scatter(x,y,color='C0')\n",
    "    ax.plot(x, y,color='C0', alpha = 0.5, label = 'AD')\n",
    "    print('AD '+\"slope is \"+str(ang_coeff)+\"and intercept is \"+str(intercept))\n",
    "\n",
    "    x = (np.array(h_dims))**3\n",
    "    y =ma\n",
    "    fit = np.polyfit(x,y,1)\n",
    "    ang_coeff = fit[0]\n",
    "    intercept = fit[1]\n",
    "    fit_eq = ang_coeff*x + intercept  \n",
    "    ax.scatter(x,y,color='C1')\n",
    "    ax.plot(x, y,color='C1', alpha = 0.5, label = 'MA')\n",
    "    ax.legend()\n",
    "    ax.set_xlabel(\"l^3\")\n",
    "    print('AD '+\"slope is \"+str(ang_coeff)+\"and intercept is \"+str(intercept))\n",
    "    \n",
    "    h_dims=[1000,1100,1200,1300,1400,1500,1600,1700,1800,1900,2000,2100]\n",
    "    ad_large=ad[13:25]\n",
    "    ma_large=ma[13:25]"
   ]
  },
  {
   "cell_type": "code",
   "execution_count": null,
   "id": "e7d29f75",
   "metadata": {},
   "outputs": [],
   "source": []
  },
  {
   "cell_type": "code",
   "execution_count": 65,
   "id": "4ccbb3ec",
   "metadata": {
    "scrolled": true
   },
   "outputs": [
    {
     "name": "stdout",
     "output_type": "stream",
     "text": [
      "temci short exec \"python ad150.py\" \"python ma150.py\" \"python ad170.py\" \"python ma170.py\" \"python ad190.py\" \"python ma190.py\" \"python ad200.py\" \"python ma200.py\" \"python ad220.py\" \"python ma220.py\" \"python ad250.py\" \"python ma250.py\" \"python ad300.py\" \"python ma300.py\" \"python ad400.py\" \"python ma400.py\" \"python ad500.py\" \"python ma500.py\" \"python ad600.py\" \"python ma600.py\" \"python ad700.py\" \"python ma700.py\" \"python ad800.py\" \"python ma800.py\" \"python ad900.py\" \"python ma900.py\" \"python ad1000.py\" \"python ma1000.py\" \"python ad1100.py\" \"python ma1100.py\" \"python ad1200.py\" \"python ma1200.py\" \"python ad1300.py\" \"python ma1300.py\" \"python ad1400.py\" \"python ma1400.py\" \"python ad1500.py\" \"python ma1500.py\" \"python ad1600.py\" \"python ma1600.py\" \"python ad1700.py\" \"python ma1700.py\" \"python ad1800.py\" \"python ma1800.py\" \"python ad1900.py\" \"python ma1900.py\" \"python ad2000.py\" \"python ma2000.py\" \"python ad2100.py\" \"python ma2100.py\" --preset none --runs 20 --sleep\n"
     ]
    }
   ],
   "source": [
    "print(get_temci(h_dims))"
   ]
  },
  {
   "cell_type": "code",
   "execution_count": null,
   "id": "f12ff6d6",
   "metadata": {},
   "outputs": [],
   "source": []
  }
 ],
 "metadata": {
  "kernelspec": {
   "display_name": "Python 3",
   "language": "python",
   "name": "python3"
  },
  "language_info": {
   "codemirror_mode": {
    "name": "ipython",
    "version": 3
   },
   "file_extension": ".py",
   "mimetype": "text/x-python",
   "name": "python",
   "nbconvert_exporter": "python",
   "pygments_lexer": "ipython3",
   "version": "3.8.8"
  }
 },
 "nbformat": 4,
 "nbformat_minor": 5
}
