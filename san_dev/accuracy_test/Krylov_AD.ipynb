{
 "cells": [
  {
   "cell_type": "code",
   "execution_count": 1,
   "metadata": {
    "collapsed": true
   },
   "outputs": [],
   "source": [
    "from qoc import grape_schroedinger_discrete\n",
    "from qoc.standard import TargetStateInfidelity\n",
    "\n",
    "import autograd.numpy as anp\n",
    "import numpy as np\n",
    "import matplotlib.pyplot as plt\n",
    "from scipy.sparse import dia_matrix\n",
    "\n",
    "import time\n",
    "\n",
    "%matplotlib inline"
   ]
  },
  {
   "cell_type": "code",
   "execution_count": 2,
   "outputs": [],
   "source": [
    "def new_Krylov(N, l):\n",
    "    \"\"\"\n",
    "    This function contains a simple example of grape\n",
    "    on the schroedinger equation using time discrete\n",
    "    control parameters to evolve a cavity from the\n",
    "    Fock state 0 to the Fock state 1. Even though the\n",
    "    system is not physical, it can be used to measure\n",
    "    memory\n",
    "\n",
    "    Args:\n",
    "    N :: int - Numbers of time steps\n",
    "    l :: int - Hilbert space dimension\n",
    "    \"\"\"\n",
    "\n",
    "    HILBERT_SIZE = l\n",
    "    diagnol = np.arange(HILBERT_SIZE)\n",
    "    up_diagnol = np.sqrt(diagnol)\n",
    "    low_diagnol = np.sqrt(np.arange(1, HILBERT_SIZE + 1))\n",
    "    data = [low_diagnol, diagnol, up_diagnol]\n",
    "    offsets = [-1, 0, 1]\n",
    "    H_SYSTEM_0 = dia_matrix((data, offsets), shape=(HILBERT_SIZE, HILBERT_SIZE))\n",
    "    sigmax = dia_matrix(([low_diagnol, up_diagnol], [-1, 1]),\n",
    "                        shape=(HILBERT_SIZE, HILBERT_SIZE))\n",
    "\n",
    "    # Only real control amplitudes are supported!\n",
    "    hamiltonian = lambda controls, time: (H_SYSTEM_0\n",
    "                                          + controls[0] * sigmax)\n",
    "\n",
    "    # Define the problem.\n",
    "    CAVITY_VACUUM = anp.zeros((l, 1))\n",
    "    CAVITY_ZERO = anp.copy(CAVITY_VACUUM)\n",
    "    CAVITY_ZERO[0, 0] = 1\n",
    "    CAVITY_ONE = anp.copy(CAVITY_VACUUM)\n",
    "    CAVITY_ONE[1, 0] = 1\n",
    "    CAVITY_VACUUM = anp.zeros((l, 1))\n",
    "\n",
    "    INITIAL_STATE_0 = anp.copy(CAVITY_VACUUM)\n",
    "    INITIAL_STATE_0[0,0] = 1\n",
    "    TARGET_STATE_0 = anp.copy(CAVITY_VACUUM)\n",
    "    TARGET_STATE_0[1,0] = 1\n",
    "    INITIAL_STATES = anp.stack((INITIAL_STATE_0,), axis=0)\n",
    "    TARGET_STATES = anp.stack((TARGET_STATE_0,), axis=0)\n",
    "    COSTS = [TargetStateInfidelity(TARGET_STATES)]\n",
    "\n",
    "    # Define the optimization.\n",
    "    COMPLEX_CONTROLS = False\n",
    "    CONTROL_COUNT = 1\n",
    "    EVOLUTION_TIME = 1e-6  # nanoseconds\n",
    "    CONTROL_EVAL_COUNT = SYSTEM_EVAL_COUNT = N + 1\n",
    "    ITERATION_COUNT = 5\n",
    "\n",
    "    # Define output.\n",
    "    LOG_ITERATION_STEP = 1\n",
    "    CONTROL_HAMILTONIAN = [sigmax]\n",
    "\n",
    "    MANUAL_PARAMETER = {\"control_hamiltonian\": CONTROL_HAMILTONIAN,\n",
    "                        \"manual_gradient_mode\": True, \"tol\": 1e-6}\n",
    "\n",
    "    result = grape_schroedinger_discrete(CONTROL_COUNT, CONTROL_EVAL_COUNT,\n",
    "                                         COSTS, EVOLUTION_TIME, hamiltonian,\n",
    "                                         INITIAL_STATES, SYSTEM_EVAL_COUNT,\n",
    "                                         complex_controls=COMPLEX_CONTROLS,\n",
    "                                         iteration_count=ITERATION_COUNT,\n",
    "                                         log_iteration_step=LOG_ITERATION_STEP,\n",
    "                                         manual_parameter=MANUAL_PARAMETER)"
   ],
   "metadata": {
    "collapsed": false,
    "pycharm": {
     "name": "#%%\n"
    }
   }
  },
  {
   "cell_type": "code",
   "execution_count": 3,
   "outputs": [],
   "source": [
    "def AD(N, l):\n",
    "    \"\"\"\n",
    "    This function contains a simple example of grape\n",
    "    on the schroedinger equation using time discrete\n",
    "    control parameters to evolve a cavity from the\n",
    "    Fock state 0 to the Fock state 1. Even though the\n",
    "    system is not physical, it can be used to measure\n",
    "    memory\n",
    "\n",
    "    Args:\n",
    "    N :: int - Numbers of time steps\n",
    "    l :: int - Hilbert space dimension\n",
    "    \"\"\"\n",
    "\n",
    "    HILBERT_SIZE = l\n",
    "    diagnol = np.arange(HILBERT_SIZE)\n",
    "    up_diagnol = np.sqrt(diagnol)\n",
    "    low_diagnol = np.sqrt(np.arange(1, HILBERT_SIZE + 1))\n",
    "    data = [low_diagnol, diagnol, up_diagnol]\n",
    "    offsets = [-1, 0, 1]\n",
    "    H_SYSTEM_0 = dia_matrix((data, offsets), shape=(HILBERT_SIZE, HILBERT_SIZE))\n",
    "    sigmax = dia_matrix(([low_diagnol, up_diagnol], [-1, 1]),\n",
    "                        shape=(HILBERT_SIZE, HILBERT_SIZE))\n",
    "\n",
    "    H_SYSTEM_0 = anp.array(H_SYSTEM_0.toarray())\n",
    "    sigmax = anp.array(sigmax.toarray())\n",
    "\n",
    "    # Only real control amplitudes are supported!\n",
    "    hamiltonian = lambda controls, time: (H_SYSTEM_0\n",
    "                                          + controls[0] * sigmax)\n",
    "\n",
    "    # Define the problem.\n",
    "    CAVITY_VACUUM = anp.zeros((l, 1))\n",
    "    CAVITY_ZERO = anp.copy(CAVITY_VACUUM)\n",
    "    CAVITY_ZERO[0, 0] = 1\n",
    "    CAVITY_ONE = anp.copy(CAVITY_VACUUM)\n",
    "    CAVITY_ONE[1, 0] = 1\n",
    "    CAVITY_VACUUM = anp.zeros((l, 1))\n",
    "\n",
    "    INITIAL_STATE_0 = anp.copy(CAVITY_VACUUM)\n",
    "    INITIAL_STATE_0[0,0] = 1\n",
    "    TARGET_STATE_0 = anp.copy(CAVITY_VACUUM)\n",
    "    TARGET_STATE_0[1,0] = 1\n",
    "    INITIAL_STATES = anp.stack((INITIAL_STATE_0,), axis=0)\n",
    "    TARGET_STATES = anp.stack((TARGET_STATE_0,), axis=0)\n",
    "    COSTS = [TargetStateInfidelity(TARGET_STATES)]\n",
    "\n",
    "    # Define the optimization.\n",
    "    COMPLEX_CONTROLS = False\n",
    "    CONTROL_COUNT = 1\n",
    "    EVOLUTION_TIME = 1e-6  # nanoseconds\n",
    "    CONTROL_EVAL_COUNT = SYSTEM_EVAL_COUNT = N + 1\n",
    "    ITERATION_COUNT = 5\n",
    "\n",
    "    # Define output.\n",
    "    LOG_ITERATION_STEP = 1\n",
    "    CONTROL_HAMILTONIAN = [sigmax]\n",
    "\n",
    "    result = grape_schroedinger_discrete(CONTROL_COUNT, CONTROL_EVAL_COUNT,\n",
    "                                         COSTS, EVOLUTION_TIME, hamiltonian,\n",
    "                                         INITIAL_STATES, SYSTEM_EVAL_COUNT,\n",
    "                                         complex_controls=COMPLEX_CONTROLS,\n",
    "                                         iteration_count=ITERATION_COUNT,\n",
    "                                         log_iteration_step=LOG_ITERATION_STEP,)"
   ],
   "metadata": {
    "collapsed": false,
    "pycharm": {
     "name": "#%%\n"
    }
   }
  },
  {
   "cell_type": "code",
   "execution_count": 3,
   "outputs": [
    {
     "name": "stdout",
     "output_type": "stream",
     "text": [
      "iter   |   total error  |    grads_l2   \n",
      "=========================================\n",
      "  0    | 1.00000000e+00 | 9.33380951e-13\n",
      "  1    | 1.00000000e+00 | 9.33380985e-13\n",
      "  2    | 1.00000000e+00 | 9.33381018e-13\n",
      "  3    | 1.00000000e+00 | 9.33381052e-13\n",
      "  4    | 1.00000000e+00 | 9.33381086e-13\n",
      "iter   |   total error  |    grads_l2   \n",
      "=========================================\n",
      "  0    | 1.00000000e+00 | 9.33380951e-13\n",
      "  1    | 1.00000000e+00 | 9.33380985e-13\n",
      "  2    | 1.00000000e+00 | 9.33381018e-13\n",
      "  3    | 1.00000000e+00 | 9.33381052e-13\n",
      "  4    | 1.00000000e+00 | 9.33381086e-13\n",
      "iter   |   total error  |    grads_l2   \n",
      "=========================================\n",
      "  0    | 1.00000000e+00 | 9.33380951e-13\n",
      "  1    | 1.00000000e+00 | 9.33380985e-13\n",
      "  2    | 1.00000000e+00 | 9.33381018e-13\n",
      "  3    | 1.00000000e+00 | 9.33381052e-13\n",
      "  4    | 1.00000000e+00 | 9.33381086e-13\n",
      "iter   |   total error  |    grads_l2   \n",
      "=========================================\n",
      "  0    | 1.00000000e+00 | 9.33380951e-13\n",
      "  1    | 1.00000000e+00 | 9.33380985e-13\n",
      "  2    | 1.00000000e+00 | 9.33381018e-13\n",
      "  3    | 1.00000000e+00 | 9.33381052e-13\n",
      "  4    | 1.00000000e+00 | 9.33381086e-13\n",
      "iter   |   total error  |    grads_l2   \n",
      "=========================================\n",
      "  0    | 1.00000000e+00 | 9.33380951e-13\n",
      "  1    | 1.00000000e+00 | 9.33380985e-13\n",
      "  2    | 1.00000000e+00 | 9.33381018e-13\n",
      "  3    | 1.00000000e+00 | 9.33381052e-13\n",
      "  4    | 1.00000000e+00 | 9.33381086e-13\n",
      "iter   |   total error  |    grads_l2   \n",
      "=========================================\n",
      "  0    | 1.00000000e+00 | 9.33380951e-13\n",
      "  1    | 1.00000000e+00 | 9.33380985e-13\n",
      "  2    | 1.00000000e+00 | 9.33381018e-13\n",
      "  3    | 1.00000000e+00 | 9.33381052e-13\n",
      "  4    | 1.00000000e+00 | 9.33381086e-13\n",
      "iter   |   total error  |    grads_l2   \n",
      "=========================================\n",
      "  0    | 1.00000000e+00 | 9.33380951e-13\n",
      "  1    | 1.00000000e+00 | 9.33380985e-13\n",
      "  2    | 1.00000000e+00 | 9.33381018e-13\n",
      "  3    | 1.00000000e+00 | 9.33381052e-13\n",
      "  4    | 1.00000000e+00 | 9.33381086e-13\n",
      "iter   |   total error  |    grads_l2   \n",
      "=========================================\n",
      "  0    | 1.00000000e+00 | 9.33380951e-13\n",
      "  1    | 1.00000000e+00 | 9.33380985e-13\n",
      "  2    | 1.00000000e+00 | 9.33381018e-13\n",
      "  3    | 1.00000000e+00 | 9.33381052e-13\n",
      "  4    | 1.00000000e+00 | 9.33381086e-13\n",
      "iter   |   total error  |    grads_l2   \n",
      "=========================================\n",
      "  0    | 1.00000000e+00 | 9.33380951e-13\n",
      "  1    | 1.00000000e+00 | 9.33380985e-13\n",
      "  2    | 1.00000000e+00 | 9.33381018e-13\n",
      "  3    | 1.00000000e+00 | 9.33381052e-13\n",
      "  4    | 1.00000000e+00 | 9.33381086e-13\n",
      "iter   |   total error  |    grads_l2   \n",
      "=========================================\n",
      "  0    | 1.00000000e+00 | 9.33380951e-13\n",
      "  1    | 1.00000000e+00 | 9.33380985e-13\n",
      "  2    | 1.00000000e+00 | 9.33381018e-13\n",
      "  3    | 1.00000000e+00 | 9.33381052e-13\n",
      "  4    | 1.00000000e+00 | 9.33381086e-13\n"
     ]
    }
   ],
   "source": [
    "# naive Krylov output\n",
    "h_dims = range(10, 1000, 100)\n",
    "ktimes_new = []\n",
    "for dim in h_dims:\n",
    "    kstart = time.time()\n",
    "    new_Krylov(5, dim)\n",
    "    kend = time.time()\n",
    "\n",
    "    ktime = kend-kstart\n",
    "    ktimes_new.append(ktime)"
   ],
   "metadata": {
    "collapsed": false,
    "pycharm": {
     "name": "#%%\n"
    }
   }
  },
  {
   "cell_type": "code",
   "execution_count": 15,
   "outputs": [
    {
     "name": "stdout",
     "output_type": "stream",
     "text": [
      "iter   |   total error  |    grads_l2   \n",
      "=========================================\n",
      "  0    | 1.00000000e+00 | 9.33380951e-13\n",
      "  1    | 1.00000000e+00 | 9.33380985e-13\n",
      "  2    | 1.00000000e+00 | 9.33381018e-13\n",
      "  3    | 1.00000000e+00 | 9.33381052e-13\n",
      "  4    | 1.00000000e+00 | 9.33381086e-13\n",
      "iter   |   total error  |    grads_l2   \n",
      "=========================================\n",
      "  0    | 1.00000000e+00 | 9.33380951e-13\n",
      "  1    | 1.00000000e+00 | 9.33380985e-13\n",
      "  2    | 1.00000000e+00 | 9.33381018e-13\n",
      "  3    | 1.00000000e+00 | 9.33381052e-13\n",
      "  4    | 1.00000000e+00 | 9.33381086e-13\n",
      "iter   |   total error  |    grads_l2   \n",
      "=========================================\n",
      "  0    | 1.00000000e+00 | 9.33380951e-13\n",
      "  1    | 1.00000000e+00 | 9.33380985e-13\n",
      "  2    | 1.00000000e+00 | 9.33381018e-13\n",
      "  3    | 1.00000000e+00 | 9.33381052e-13\n",
      "  4    | 1.00000000e+00 | 9.33381086e-13\n",
      "iter   |   total error  |    grads_l2   \n",
      "=========================================\n",
      "  0    | 1.00000000e+00 | 9.33380951e-13\n",
      "  1    | 1.00000000e+00 | 9.33380985e-13\n",
      "  2    | 1.00000000e+00 | 9.33381018e-13\n",
      "  3    | 1.00000000e+00 | 9.33381052e-13\n",
      "  4    | 1.00000000e+00 | 9.33381086e-13\n",
      "iter   |   total error  |    grads_l2   \n",
      "=========================================\n",
      "  0    | 1.00000000e+00 | 9.33380951e-13\n"
     ]
    },
    {
     "ename": "KeyboardInterrupt",
     "evalue": "",
     "output_type": "error",
     "traceback": [
      "\u001B[0;31m---------------------------------------------------------------------------\u001B[0m",
      "\u001B[0;31mKeyboardInterrupt\u001B[0m                         Traceback (most recent call last)",
      "\u001B[0;32m/var/folders/ly/l4yz7t0579q2pzvdp_04ylxw0000gs/T/ipykernel_4548/1678511222.py\u001B[0m in \u001B[0;36m<module>\u001B[0;34m\u001B[0m\n\u001B[1;32m      3\u001B[0m \u001B[0;32mfor\u001B[0m \u001B[0mdim\u001B[0m \u001B[0;32min\u001B[0m \u001B[0mh_dims\u001B[0m\u001B[0;34m:\u001B[0m\u001B[0;34m\u001B[0m\u001B[0;34m\u001B[0m\u001B[0m\n\u001B[1;32m      4\u001B[0m     \u001B[0madstart\u001B[0m \u001B[0;34m=\u001B[0m \u001B[0mtime\u001B[0m\u001B[0;34m.\u001B[0m\u001B[0mtime\u001B[0m\u001B[0;34m(\u001B[0m\u001B[0;34m)\u001B[0m\u001B[0;34m\u001B[0m\u001B[0;34m\u001B[0m\u001B[0m\n\u001B[0;32m----> 5\u001B[0;31m     \u001B[0mAD\u001B[0m\u001B[0;34m(\u001B[0m\u001B[0;36m5\u001B[0m\u001B[0;34m,\u001B[0m \u001B[0mdim\u001B[0m\u001B[0;34m)\u001B[0m\u001B[0;34m\u001B[0m\u001B[0;34m\u001B[0m\u001B[0m\n\u001B[0m\u001B[1;32m      6\u001B[0m     \u001B[0madend\u001B[0m \u001B[0;34m=\u001B[0m \u001B[0mtime\u001B[0m\u001B[0;34m.\u001B[0m\u001B[0mtime\u001B[0m\u001B[0;34m(\u001B[0m\u001B[0;34m)\u001B[0m\u001B[0;34m\u001B[0m\u001B[0;34m\u001B[0m\u001B[0m\n\u001B[1;32m      7\u001B[0m \u001B[0;34m\u001B[0m\u001B[0m\n",
      "\u001B[0;32m/var/folders/ly/l4yz7t0579q2pzvdp_04ylxw0000gs/T/ipykernel_4548/224300211.py\u001B[0m in \u001B[0;36mAD\u001B[0;34m(N, l)\u001B[0m\n\u001B[1;32m     57\u001B[0m     \u001B[0mCONTROL_HAMILTONIAN\u001B[0m \u001B[0;34m=\u001B[0m \u001B[0;34m[\u001B[0m\u001B[0msigmax\u001B[0m\u001B[0;34m]\u001B[0m\u001B[0;34m\u001B[0m\u001B[0;34m\u001B[0m\u001B[0m\n\u001B[1;32m     58\u001B[0m \u001B[0;34m\u001B[0m\u001B[0m\n\u001B[0;32m---> 59\u001B[0;31m     result = grape_schroedinger_discrete(CONTROL_COUNT, CONTROL_EVAL_COUNT,\n\u001B[0m\u001B[1;32m     60\u001B[0m                                          \u001B[0mCOSTS\u001B[0m\u001B[0;34m,\u001B[0m \u001B[0mEVOLUTION_TIME\u001B[0m\u001B[0;34m,\u001B[0m \u001B[0mhamiltonian\u001B[0m\u001B[0;34m,\u001B[0m\u001B[0;34m\u001B[0m\u001B[0;34m\u001B[0m\u001B[0m\n\u001B[1;32m     61\u001B[0m                                          \u001B[0mINITIAL_STATES\u001B[0m\u001B[0;34m,\u001B[0m \u001B[0mSYSTEM_EVAL_COUNT\u001B[0m\u001B[0;34m,\u001B[0m\u001B[0;34m\u001B[0m\u001B[0;34m\u001B[0m\u001B[0m\n",
      "\u001B[0;32m~/Documents/QC-Code/qoc/qoc/core/schroedingerdiscrete.py\u001B[0m in \u001B[0;36mgrape_schroedinger_discrete\u001B[0;34m(control_count, control_eval_count, costs, evolution_time, hamiltonian, initial_states, system_eval_count, complex_controls, cost_eval_step, impose_control_conditions, initial_controls, interpolation_policy, iteration_count, log_iteration_step, magnus_policy, max_control_norms, min_error, optimizer, save_file_path, save_intermediate_states, save_iteration_step, manual_parameter)\u001B[0m\n\u001B[1;32m    268\u001B[0m     \u001B[0minitial_controls\u001B[0m \u001B[0;34m=\u001B[0m \u001B[0mstrip_controls\u001B[0m\u001B[0;34m(\u001B[0m\u001B[0mpstate\u001B[0m\u001B[0;34m.\u001B[0m\u001B[0mcomplex_controls\u001B[0m\u001B[0;34m,\u001B[0m \u001B[0mpstate\u001B[0m\u001B[0;34m.\u001B[0m\u001B[0minitial_controls\u001B[0m\u001B[0;34m)\u001B[0m\u001B[0;34m\u001B[0m\u001B[0;34m\u001B[0m\u001B[0m\n\u001B[1;32m    269\u001B[0m     \u001B[0;31m# Run the optimization.\u001B[0m\u001B[0;34m\u001B[0m\u001B[0;34m\u001B[0m\u001B[0;34m\u001B[0m\u001B[0m\n\u001B[0;32m--> 270\u001B[0;31m     pstate.optimizer.run(_esd_wrap, pstate.iteration_count, initial_controls,\n\u001B[0m\u001B[1;32m    271\u001B[0m                          _esdj_wrap, args=(pstate, reporter, result))\n\u001B[1;32m    272\u001B[0m \u001B[0;34m\u001B[0m\u001B[0m\n",
      "\u001B[0;32m~/Documents/QC-Code/qoc/qoc/standard/optimizers/adam.py\u001B[0m in \u001B[0;36mrun\u001B[0;34m(self, function, iteration_count, initial_params, jacobian, args)\u001B[0m\n\u001B[1;32m    102\u001B[0m         \u001B[0mparams\u001B[0m \u001B[0;34m=\u001B[0m \u001B[0minitial_params\u001B[0m\u001B[0;34m\u001B[0m\u001B[0;34m\u001B[0m\u001B[0m\n\u001B[1;32m    103\u001B[0m         \u001B[0;32mfor\u001B[0m \u001B[0mi\u001B[0m \u001B[0;32min\u001B[0m \u001B[0mrange\u001B[0m\u001B[0;34m(\u001B[0m\u001B[0miteration_count\u001B[0m\u001B[0;34m)\u001B[0m\u001B[0;34m:\u001B[0m\u001B[0;34m\u001B[0m\u001B[0;34m\u001B[0m\u001B[0m\n\u001B[0;32m--> 104\u001B[0;31m             \u001B[0mgrads\u001B[0m\u001B[0;34m,\u001B[0m \u001B[0mterminate\u001B[0m \u001B[0;34m=\u001B[0m \u001B[0mjacobian\u001B[0m\u001B[0;34m(\u001B[0m\u001B[0mparams\u001B[0m\u001B[0;34m,\u001B[0m \u001B[0;34m*\u001B[0m\u001B[0margs\u001B[0m\u001B[0;34m)\u001B[0m\u001B[0;34m\u001B[0m\u001B[0;34m\u001B[0m\u001B[0m\n\u001B[0m\u001B[1;32m    105\u001B[0m             \u001B[0;32mif\u001B[0m \u001B[0mterminate\u001B[0m\u001B[0;34m:\u001B[0m\u001B[0;34m\u001B[0m\u001B[0;34m\u001B[0m\u001B[0m\n\u001B[1;32m    106\u001B[0m                 \u001B[0;32mbreak\u001B[0m\u001B[0;34m\u001B[0m\u001B[0;34m\u001B[0m\u001B[0m\n",
      "\u001B[0;32m~/Documents/QC-Code/qoc/qoc/core/schroedingerdiscrete.py\u001B[0m in \u001B[0;36m_esdj_wrap\u001B[0;34m(controls, pstate, reporter, result)\u001B[0m\n\u001B[1;32m    349\u001B[0m         \u001B[0mgrads\u001B[0m\u001B[0;34m=\u001B[0m\u001B[0mgrads\u001B[0m\u001B[0;34m+\u001B[0m\u001B[0mgrads_pu\u001B[0m\u001B[0;34m\u001B[0m\u001B[0;34m\u001B[0m\u001B[0m\n\u001B[1;32m    350\u001B[0m     \u001B[0;32melse\u001B[0m \u001B[0;34m:\u001B[0m\u001B[0;34m\u001B[0m\u001B[0;34m\u001B[0m\u001B[0m\n\u001B[0;32m--> 351\u001B[0;31m         \u001B[0merror\u001B[0m\u001B[0;34m,\u001B[0m \u001B[0mgrads\u001B[0m \u001B[0;34m=\u001B[0m \u001B[0;34m(\u001B[0m\u001B[0mans_jacobian\u001B[0m\u001B[0;34m(\u001B[0m\u001B[0m_evaluate_schroedinger_discrete\u001B[0m\u001B[0;34m,\u001B[0m \u001B[0;36m0\u001B[0m\u001B[0;34m)\u001B[0m\u001B[0;34m(\u001B[0m\u001B[0mcontrols\u001B[0m\u001B[0;34m,\u001B[0m \u001B[0mpstate\u001B[0m\u001B[0;34m,\u001B[0m \u001B[0mreporter\u001B[0m\u001B[0;34m)\u001B[0m\u001B[0;34m)\u001B[0m\u001B[0;34m\u001B[0m\u001B[0;34m\u001B[0m\u001B[0m\n\u001B[0m\u001B[1;32m    352\u001B[0m     \u001B[0;31m# Autograd defines the derivative of a function of complex inputs as\u001B[0m\u001B[0;34m\u001B[0m\u001B[0;34m\u001B[0m\u001B[0;34m\u001B[0m\u001B[0m\n\u001B[1;32m    353\u001B[0m     \u001B[0;31m# df_dz = du_dx - i * du_dy for z = x + iy, f(z) = u(x, y) + iv(x, y).\u001B[0m\u001B[0;34m\u001B[0m\u001B[0;34m\u001B[0m\u001B[0;34m\u001B[0m\u001B[0m\n",
      "\u001B[0;32m~/.local/lib/python3.9/site-packages/autograd/wrap_util.py\u001B[0m in \u001B[0;36mnary_f\u001B[0;34m(*args, **kwargs)\u001B[0m\n\u001B[1;32m     18\u001B[0m             \u001B[0;32melse\u001B[0m\u001B[0;34m:\u001B[0m\u001B[0;34m\u001B[0m\u001B[0;34m\u001B[0m\u001B[0m\n\u001B[1;32m     19\u001B[0m                 \u001B[0mx\u001B[0m \u001B[0;34m=\u001B[0m \u001B[0mtuple\u001B[0m\u001B[0;34m(\u001B[0m\u001B[0margs\u001B[0m\u001B[0;34m[\u001B[0m\u001B[0mi\u001B[0m\u001B[0;34m]\u001B[0m \u001B[0;32mfor\u001B[0m \u001B[0mi\u001B[0m \u001B[0;32min\u001B[0m \u001B[0margnum\u001B[0m\u001B[0;34m)\u001B[0m\u001B[0;34m\u001B[0m\u001B[0;34m\u001B[0m\u001B[0m\n\u001B[0;32m---> 20\u001B[0;31m             \u001B[0;32mreturn\u001B[0m \u001B[0munary_operator\u001B[0m\u001B[0;34m(\u001B[0m\u001B[0munary_f\u001B[0m\u001B[0;34m,\u001B[0m \u001B[0mx\u001B[0m\u001B[0;34m,\u001B[0m \u001B[0;34m*\u001B[0m\u001B[0mnary_op_args\u001B[0m\u001B[0;34m,\u001B[0m \u001B[0;34m**\u001B[0m\u001B[0mnary_op_kwargs\u001B[0m\u001B[0;34m)\u001B[0m\u001B[0;34m\u001B[0m\u001B[0;34m\u001B[0m\u001B[0m\n\u001B[0m\u001B[1;32m     21\u001B[0m         \u001B[0;32mreturn\u001B[0m \u001B[0mnary_f\u001B[0m\u001B[0;34m\u001B[0m\u001B[0;34m\u001B[0m\u001B[0m\n\u001B[1;32m     22\u001B[0m     \u001B[0;32mreturn\u001B[0m \u001B[0mnary_operator\u001B[0m\u001B[0;34m\u001B[0m\u001B[0;34m\u001B[0m\u001B[0m\n",
      "\u001B[0;32m~/Documents/QC-Code/qoc/qoc/standard/utils/autogradutil.py\u001B[0m in \u001B[0;36mans_jacobian\u001B[0;34m(function, argnum)\u001B[0m\n\u001B[1;32m     27\u001B[0m     \u001B[0mans_vspace\u001B[0m \u001B[0;34m=\u001B[0m \u001B[0mvspace\u001B[0m\u001B[0;34m(\u001B[0m\u001B[0mans\u001B[0m\u001B[0;34m)\u001B[0m\u001B[0;34m\u001B[0m\u001B[0;34m\u001B[0m\u001B[0m\n\u001B[1;32m     28\u001B[0m     \u001B[0mjacobian_shape\u001B[0m \u001B[0;34m=\u001B[0m \u001B[0mans_vspace\u001B[0m\u001B[0;34m.\u001B[0m\u001B[0mshape\u001B[0m \u001B[0;34m+\u001B[0m \u001B[0mvspace\u001B[0m\u001B[0;34m(\u001B[0m\u001B[0margnum\u001B[0m\u001B[0;34m)\u001B[0m\u001B[0;34m.\u001B[0m\u001B[0mshape\u001B[0m\u001B[0;34m\u001B[0m\u001B[0;34m\u001B[0m\u001B[0m\n\u001B[0;32m---> 29\u001B[0;31m     \u001B[0mgrads\u001B[0m \u001B[0;34m=\u001B[0m \u001B[0mlist\u001B[0m\u001B[0;34m(\u001B[0m\u001B[0mmap\u001B[0m\u001B[0;34m(\u001B[0m\u001B[0mvjp\u001B[0m\u001B[0;34m,\u001B[0m \u001B[0mans_vspace\u001B[0m\u001B[0;34m.\u001B[0m\u001B[0mstandard_basis\u001B[0m\u001B[0;34m(\u001B[0m\u001B[0;34m)\u001B[0m\u001B[0;34m)\u001B[0m\u001B[0;34m)\u001B[0m\u001B[0;34m\u001B[0m\u001B[0;34m\u001B[0m\u001B[0m\n\u001B[0m\u001B[1;32m     30\u001B[0m     \u001B[0mjacobian\u001B[0m \u001B[0;34m=\u001B[0m \u001B[0mnp\u001B[0m\u001B[0;34m.\u001B[0m\u001B[0mreshape\u001B[0m\u001B[0;34m(\u001B[0m\u001B[0mnp\u001B[0m\u001B[0;34m.\u001B[0m\u001B[0mstack\u001B[0m\u001B[0;34m(\u001B[0m\u001B[0mgrads\u001B[0m\u001B[0;34m)\u001B[0m\u001B[0;34m,\u001B[0m \u001B[0mjacobian_shape\u001B[0m\u001B[0;34m)\u001B[0m\u001B[0;34m\u001B[0m\u001B[0;34m\u001B[0m\u001B[0m\n\u001B[1;32m     31\u001B[0m     \u001B[0;32mreturn\u001B[0m \u001B[0mans\u001B[0m\u001B[0;34m,\u001B[0m \u001B[0mjacobian\u001B[0m\u001B[0;34m\u001B[0m\u001B[0;34m\u001B[0m\u001B[0m\n",
      "\u001B[0;32m~/.local/lib/python3.9/site-packages/autograd/core.py\u001B[0m in \u001B[0;36mvjp\u001B[0;34m(g)\u001B[0m\n\u001B[1;32m     12\u001B[0m         \u001B[0;32mdef\u001B[0m \u001B[0mvjp\u001B[0m\u001B[0;34m(\u001B[0m\u001B[0mg\u001B[0m\u001B[0;34m)\u001B[0m\u001B[0;34m:\u001B[0m \u001B[0;32mreturn\u001B[0m \u001B[0mvspace\u001B[0m\u001B[0;34m(\u001B[0m\u001B[0mx\u001B[0m\u001B[0;34m)\u001B[0m\u001B[0;34m.\u001B[0m\u001B[0mzeros\u001B[0m\u001B[0;34m(\u001B[0m\u001B[0;34m)\u001B[0m\u001B[0;34m\u001B[0m\u001B[0;34m\u001B[0m\u001B[0m\n\u001B[1;32m     13\u001B[0m     \u001B[0;32melse\u001B[0m\u001B[0;34m:\u001B[0m\u001B[0;34m\u001B[0m\u001B[0;34m\u001B[0m\u001B[0m\n\u001B[0;32m---> 14\u001B[0;31m         \u001B[0;32mdef\u001B[0m \u001B[0mvjp\u001B[0m\u001B[0;34m(\u001B[0m\u001B[0mg\u001B[0m\u001B[0;34m)\u001B[0m\u001B[0;34m:\u001B[0m \u001B[0;32mreturn\u001B[0m \u001B[0mbackward_pass\u001B[0m\u001B[0;34m(\u001B[0m\u001B[0mg\u001B[0m\u001B[0;34m,\u001B[0m \u001B[0mend_node\u001B[0m\u001B[0;34m)\u001B[0m\u001B[0;34m\u001B[0m\u001B[0;34m\u001B[0m\u001B[0m\n\u001B[0m\u001B[1;32m     15\u001B[0m     \u001B[0;32mreturn\u001B[0m \u001B[0mvjp\u001B[0m\u001B[0;34m,\u001B[0m \u001B[0mend_value\u001B[0m\u001B[0;34m\u001B[0m\u001B[0;34m\u001B[0m\u001B[0m\n\u001B[1;32m     16\u001B[0m \u001B[0;34m\u001B[0m\u001B[0m\n",
      "\u001B[0;32m~/.local/lib/python3.9/site-packages/autograd/core.py\u001B[0m in \u001B[0;36mbackward_pass\u001B[0;34m(g, end_node)\u001B[0m\n\u001B[1;32m     19\u001B[0m     \u001B[0;32mfor\u001B[0m \u001B[0mnode\u001B[0m \u001B[0;32min\u001B[0m \u001B[0mtoposort\u001B[0m\u001B[0;34m(\u001B[0m\u001B[0mend_node\u001B[0m\u001B[0;34m)\u001B[0m\u001B[0;34m:\u001B[0m\u001B[0;34m\u001B[0m\u001B[0;34m\u001B[0m\u001B[0m\n\u001B[1;32m     20\u001B[0m         \u001B[0moutgrad\u001B[0m \u001B[0;34m=\u001B[0m \u001B[0moutgrads\u001B[0m\u001B[0;34m.\u001B[0m\u001B[0mpop\u001B[0m\u001B[0;34m(\u001B[0m\u001B[0mnode\u001B[0m\u001B[0;34m)\u001B[0m\u001B[0;34m\u001B[0m\u001B[0;34m\u001B[0m\u001B[0m\n\u001B[0;32m---> 21\u001B[0;31m         \u001B[0mingrads\u001B[0m \u001B[0;34m=\u001B[0m \u001B[0mnode\u001B[0m\u001B[0;34m.\u001B[0m\u001B[0mvjp\u001B[0m\u001B[0;34m(\u001B[0m\u001B[0moutgrad\u001B[0m\u001B[0;34m[\u001B[0m\u001B[0;36m0\u001B[0m\u001B[0;34m]\u001B[0m\u001B[0;34m)\u001B[0m\u001B[0;34m\u001B[0m\u001B[0;34m\u001B[0m\u001B[0m\n\u001B[0m\u001B[1;32m     22\u001B[0m         \u001B[0;32mfor\u001B[0m \u001B[0mparent\u001B[0m\u001B[0;34m,\u001B[0m \u001B[0mingrad\u001B[0m \u001B[0;32min\u001B[0m \u001B[0mzip\u001B[0m\u001B[0;34m(\u001B[0m\u001B[0mnode\u001B[0m\u001B[0;34m.\u001B[0m\u001B[0mparents\u001B[0m\u001B[0;34m,\u001B[0m \u001B[0mingrads\u001B[0m\u001B[0;34m)\u001B[0m\u001B[0;34m:\u001B[0m\u001B[0;34m\u001B[0m\u001B[0;34m\u001B[0m\u001B[0m\n\u001B[1;32m     23\u001B[0m             \u001B[0moutgrads\u001B[0m\u001B[0;34m[\u001B[0m\u001B[0mparent\u001B[0m\u001B[0;34m]\u001B[0m \u001B[0;34m=\u001B[0m \u001B[0madd_outgrads\u001B[0m\u001B[0;34m(\u001B[0m\u001B[0moutgrads\u001B[0m\u001B[0;34m.\u001B[0m\u001B[0mget\u001B[0m\u001B[0;34m(\u001B[0m\u001B[0mparent\u001B[0m\u001B[0;34m)\u001B[0m\u001B[0;34m,\u001B[0m \u001B[0mingrad\u001B[0m\u001B[0;34m)\u001B[0m\u001B[0;34m\u001B[0m\u001B[0;34m\u001B[0m\u001B[0m\n",
      "\u001B[0;32m~/.local/lib/python3.9/site-packages/autograd/core.py\u001B[0m in \u001B[0;36m<lambda>\u001B[0;34m(g)\u001B[0m\n\u001B[1;32m     76\u001B[0m             \u001B[0mvjp_0\u001B[0m \u001B[0;34m=\u001B[0m \u001B[0mvjp_0_fun\u001B[0m\u001B[0;34m(\u001B[0m\u001B[0mans\u001B[0m\u001B[0;34m,\u001B[0m \u001B[0;34m*\u001B[0m\u001B[0margs\u001B[0m\u001B[0;34m,\u001B[0m \u001B[0;34m**\u001B[0m\u001B[0mkwargs\u001B[0m\u001B[0;34m)\u001B[0m\u001B[0;34m\u001B[0m\u001B[0;34m\u001B[0m\u001B[0m\n\u001B[1;32m     77\u001B[0m             \u001B[0mvjp_1\u001B[0m \u001B[0;34m=\u001B[0m \u001B[0mvjp_1_fun\u001B[0m\u001B[0;34m(\u001B[0m\u001B[0mans\u001B[0m\u001B[0;34m,\u001B[0m \u001B[0;34m*\u001B[0m\u001B[0margs\u001B[0m\u001B[0;34m,\u001B[0m \u001B[0;34m**\u001B[0m\u001B[0mkwargs\u001B[0m\u001B[0;34m)\u001B[0m\u001B[0;34m\u001B[0m\u001B[0;34m\u001B[0m\u001B[0m\n\u001B[0;32m---> 78\u001B[0;31m             \u001B[0;32mreturn\u001B[0m \u001B[0;32mlambda\u001B[0m \u001B[0mg\u001B[0m\u001B[0;34m:\u001B[0m \u001B[0;34m(\u001B[0m\u001B[0mvjp_0\u001B[0m\u001B[0;34m(\u001B[0m\u001B[0mg\u001B[0m\u001B[0;34m)\u001B[0m\u001B[0;34m,\u001B[0m \u001B[0mvjp_1\u001B[0m\u001B[0;34m(\u001B[0m\u001B[0mg\u001B[0m\u001B[0;34m)\u001B[0m\u001B[0;34m)\u001B[0m\u001B[0;34m\u001B[0m\u001B[0;34m\u001B[0m\u001B[0m\n\u001B[0m\u001B[1;32m     79\u001B[0m         \u001B[0;32melse\u001B[0m\u001B[0;34m:\u001B[0m\u001B[0;34m\u001B[0m\u001B[0;34m\u001B[0m\u001B[0m\n\u001B[1;32m     80\u001B[0m             \u001B[0mvjps\u001B[0m \u001B[0;34m=\u001B[0m \u001B[0;34m[\u001B[0m\u001B[0mvjps_dict\u001B[0m\u001B[0;34m[\u001B[0m\u001B[0margnum\u001B[0m\u001B[0;34m]\u001B[0m\u001B[0;34m(\u001B[0m\u001B[0mans\u001B[0m\u001B[0;34m,\u001B[0m \u001B[0;34m*\u001B[0m\u001B[0margs\u001B[0m\u001B[0;34m,\u001B[0m \u001B[0;34m**\u001B[0m\u001B[0mkwargs\u001B[0m\u001B[0;34m)\u001B[0m \u001B[0;32mfor\u001B[0m \u001B[0margnum\u001B[0m \u001B[0;32min\u001B[0m \u001B[0margnums\u001B[0m\u001B[0;34m]\u001B[0m\u001B[0;34m\u001B[0m\u001B[0;34m\u001B[0m\u001B[0m\n",
      "\u001B[0;32m~/.local/lib/python3.9/site-packages/autograd/numpy/linalg.py\u001B[0m in \u001B[0;36m<lambda>\u001B[0;34m(g)\u001B[0m\n\u001B[1;32m     41\u001B[0m     \u001B[0mupdim\u001B[0m \u001B[0;34m=\u001B[0m \u001B[0;32mlambda\u001B[0m \u001B[0mx\u001B[0m\u001B[0;34m:\u001B[0m \u001B[0mx\u001B[0m \u001B[0;32mif\u001B[0m \u001B[0mx\u001B[0m\u001B[0;34m.\u001B[0m\u001B[0mndim\u001B[0m \u001B[0;34m==\u001B[0m \u001B[0ma\u001B[0m\u001B[0;34m.\u001B[0m\u001B[0mndim\u001B[0m \u001B[0;32melse\u001B[0m \u001B[0mx\u001B[0m\u001B[0;34m[\u001B[0m\u001B[0;34m...\u001B[0m\u001B[0;34m,\u001B[0m\u001B[0;32mNone\u001B[0m\u001B[0;34m]\u001B[0m\u001B[0;34m\u001B[0m\u001B[0;34m\u001B[0m\u001B[0m\n\u001B[1;32m     42\u001B[0m     \u001B[0;32mif\u001B[0m \u001B[0margnum\u001B[0m \u001B[0;34m==\u001B[0m \u001B[0;36m0\u001B[0m\u001B[0;34m:\u001B[0m\u001B[0;34m\u001B[0m\u001B[0;34m\u001B[0m\u001B[0m\n\u001B[0;32m---> 43\u001B[0;31m         \u001B[0;32mreturn\u001B[0m \u001B[0;32mlambda\u001B[0m \u001B[0mg\u001B[0m\u001B[0;34m:\u001B[0m \u001B[0;34m-\u001B[0m\u001B[0m_dot\u001B[0m\u001B[0;34m(\u001B[0m\u001B[0mupdim\u001B[0m\u001B[0;34m(\u001B[0m\u001B[0msolve\u001B[0m\u001B[0;34m(\u001B[0m\u001B[0mT\u001B[0m\u001B[0;34m(\u001B[0m\u001B[0ma\u001B[0m\u001B[0;34m)\u001B[0m\u001B[0;34m,\u001B[0m \u001B[0mg\u001B[0m\u001B[0;34m)\u001B[0m\u001B[0;34m)\u001B[0m\u001B[0;34m,\u001B[0m \u001B[0mT\u001B[0m\u001B[0;34m(\u001B[0m\u001B[0mupdim\u001B[0m\u001B[0;34m(\u001B[0m\u001B[0mans\u001B[0m\u001B[0;34m)\u001B[0m\u001B[0;34m)\u001B[0m\u001B[0;34m)\u001B[0m\u001B[0;34m\u001B[0m\u001B[0;34m\u001B[0m\u001B[0m\n\u001B[0m\u001B[1;32m     44\u001B[0m     \u001B[0;32melse\u001B[0m\u001B[0;34m:\u001B[0m\u001B[0;34m\u001B[0m\u001B[0;34m\u001B[0m\u001B[0m\n\u001B[1;32m     45\u001B[0m         \u001B[0;32mreturn\u001B[0m \u001B[0;32mlambda\u001B[0m \u001B[0mg\u001B[0m\u001B[0;34m:\u001B[0m \u001B[0msolve\u001B[0m\u001B[0;34m(\u001B[0m\u001B[0mT\u001B[0m\u001B[0;34m(\u001B[0m\u001B[0ma\u001B[0m\u001B[0;34m)\u001B[0m\u001B[0;34m,\u001B[0m \u001B[0mg\u001B[0m\u001B[0;34m)\u001B[0m\u001B[0;34m\u001B[0m\u001B[0;34m\u001B[0m\u001B[0m\n",
      "\u001B[0;32m~/.local/lib/python3.9/site-packages/autograd/tracer.py\u001B[0m in \u001B[0;36mf_wrapped\u001B[0;34m(*args, **kwargs)\u001B[0m\n\u001B[1;32m     46\u001B[0m             \u001B[0;32mreturn\u001B[0m \u001B[0mnew_box\u001B[0m\u001B[0;34m(\u001B[0m\u001B[0mans\u001B[0m\u001B[0;34m,\u001B[0m \u001B[0mtrace\u001B[0m\u001B[0;34m,\u001B[0m \u001B[0mnode\u001B[0m\u001B[0;34m)\u001B[0m\u001B[0;34m\u001B[0m\u001B[0;34m\u001B[0m\u001B[0m\n\u001B[1;32m     47\u001B[0m         \u001B[0;32melse\u001B[0m\u001B[0;34m:\u001B[0m\u001B[0;34m\u001B[0m\u001B[0;34m\u001B[0m\u001B[0m\n\u001B[0;32m---> 48\u001B[0;31m             \u001B[0;32mreturn\u001B[0m \u001B[0mf_raw\u001B[0m\u001B[0;34m(\u001B[0m\u001B[0;34m*\u001B[0m\u001B[0margs\u001B[0m\u001B[0;34m,\u001B[0m \u001B[0;34m**\u001B[0m\u001B[0mkwargs\u001B[0m\u001B[0;34m)\u001B[0m\u001B[0;34m\u001B[0m\u001B[0;34m\u001B[0m\u001B[0m\n\u001B[0m\u001B[1;32m     49\u001B[0m     \u001B[0mf_wrapped\u001B[0m\u001B[0;34m.\u001B[0m\u001B[0mfun\u001B[0m \u001B[0;34m=\u001B[0m \u001B[0mf_raw\u001B[0m\u001B[0;34m\u001B[0m\u001B[0;34m\u001B[0m\u001B[0m\n\u001B[1;32m     50\u001B[0m     \u001B[0mf_wrapped\u001B[0m\u001B[0;34m.\u001B[0m\u001B[0m_is_autograd_primitive\u001B[0m \u001B[0;34m=\u001B[0m \u001B[0;32mTrue\u001B[0m\u001B[0;34m\u001B[0m\u001B[0;34m\u001B[0m\u001B[0m\n",
      "\u001B[0;32m<__array_function__ internals>\u001B[0m in \u001B[0;36meinsum\u001B[0;34m(*args, **kwargs)\u001B[0m\n",
      "\u001B[0;32m~/.local/lib/python3.9/site-packages/numpy/core/einsumfunc.py\u001B[0m in \u001B[0;36meinsum\u001B[0;34m(out, optimize, *operands, **kwargs)\u001B[0m\n\u001B[1;32m   1357\u001B[0m         \u001B[0;32mif\u001B[0m \u001B[0mspecified_out\u001B[0m\u001B[0;34m:\u001B[0m\u001B[0;34m\u001B[0m\u001B[0;34m\u001B[0m\u001B[0m\n\u001B[1;32m   1358\u001B[0m             \u001B[0mkwargs\u001B[0m\u001B[0;34m[\u001B[0m\u001B[0;34m'out'\u001B[0m\u001B[0;34m]\u001B[0m \u001B[0;34m=\u001B[0m \u001B[0mout\u001B[0m\u001B[0;34m\u001B[0m\u001B[0;34m\u001B[0m\u001B[0m\n\u001B[0;32m-> 1359\u001B[0;31m         \u001B[0;32mreturn\u001B[0m \u001B[0mc_einsum\u001B[0m\u001B[0;34m(\u001B[0m\u001B[0;34m*\u001B[0m\u001B[0moperands\u001B[0m\u001B[0;34m,\u001B[0m \u001B[0;34m**\u001B[0m\u001B[0mkwargs\u001B[0m\u001B[0;34m)\u001B[0m\u001B[0;34m\u001B[0m\u001B[0;34m\u001B[0m\u001B[0m\n\u001B[0m\u001B[1;32m   1360\u001B[0m \u001B[0;34m\u001B[0m\u001B[0m\n\u001B[1;32m   1361\u001B[0m     \u001B[0;31m# Check the kwargs to avoid a more cryptic error later, without having to\u001B[0m\u001B[0;34m\u001B[0m\u001B[0;34m\u001B[0m\u001B[0;34m\u001B[0m\u001B[0m\n",
      "\u001B[0;31mKeyboardInterrupt\u001B[0m: "
     ]
    }
   ],
   "source": [
    "# AD output\n",
    "adtimes = []\n",
    "for dim in h_dims:\n",
    "    adstart = time.time()\n",
    "    AD(5, dim)\n",
    "    adend = time.time()\n",
    "\n",
    "    adtime = adend-adstart\n",
    "    adtimes.append(adtime)"
   ],
   "metadata": {
    "collapsed": false,
    "pycharm": {
     "name": "#%%\n"
    }
   }
  },
  {
   "cell_type": "code",
   "execution_count": 34,
   "outputs": [
    {
     "data": {
      "text/plain": "<Figure size 432x288 with 1 Axes>",
      "image/png": "[encoded data removed]"
     },
     "metadata": {
      "needs_background": "light"
     },
     "output_type": "display_data"
    }
   ],
   "source": [
    "plt.scatter(h_dims, adtimes, color='C0', label=\"AD\")\n",
    "plt.plot(h_dims, adtimes, color='C0', alpha = 0.5)\n",
    "\n",
    "plt.scatter(h_dims, ktimes, color='r', label=\"Krylov\")\n",
    "plt.plot(h_dims, ktimes, color='r', alpha = 0.5)\n",
    "\n",
    "plt.xlabel(\"l\")\n",
    "plt.ylabel(\"runtime [s]\")\n",
    "\n",
    "plt.title(\"AD vs Krylov runtime\")\n",
    "plt.grid()\n",
    "plt.legend()\n",
    "\n",
    "plt.show()"
   ],
   "metadata": {
    "collapsed": false,
    "pycharm": {
     "name": "#%%\n"
    }
   }
  },
  {
   "cell_type": "code",
   "execution_count": 35,
   "outputs": [
    {
     "name": "stdout",
     "output_type": "stream",
     "text": [
      "[0.1898491382598877, 0.5633950233459473, 0.6736938953399658, 0.6977560520172119, 0.8792262077331543, 0.8070337772369385, 1.0527050495147705, 1.2177798748016357, 1.209434986114502, 1.2146077156066895]\n",
      "[0.12549805641174316, 0.3137378692626953, 1.0548009872436523, 2.440361976623535, 5.16273307800293, 8.718554973602295, 13.897977113723755, 18.615697145462036, 27.014513731002808, 42.077934980392456]\n"
     ]
    }
   ],
   "source": [
    "print(ktimes)\n",
    "print(adtimes)"
   ],
   "metadata": {
    "collapsed": false,
    "pycharm": {
     "name": "#%%\n"
    }
   }
  },
  {
   "cell_type": "code",
   "execution_count": 4,
   "outputs": [
    {
     "name": "stdout",
     "output_type": "stream",
     "text": [
      "[0.2308180332183838, 0.5363681316375732, 0.6581361293792725, 0.6247711181640625, 0.6761720180511475, 0.7147650718688965, 0.7632489204406738, 0.8393259048461914, 0.8628678321838379, 0.9217147827148438]\n"
     ]
    }
   ],
   "source": [
    "ktimes_old = [0.1898491382598877, 0.5633950233459473, 0.6736938953399658, 0.6977560520172119, 0.8792262077331543, 0.8070337772369385, 1.0527050495147705, 1.2177798748016357, 1.209434986114502, 1.2146077156066895]\n",
    "print(ktimes_new)"
   ],
   "metadata": {
    "collapsed": false,
    "pycharm": {
     "name": "#%%\n"
    }
   }
  },
  {
   "cell_type": "code",
   "execution_count": 5,
   "outputs": [
    {
     "data": {
      "text/plain": "<Figure size 432x288 with 1 Axes>",
      "image/png": "[encoded data removed]"
     },
     "metadata": {
      "needs_background": "light"
     },
     "output_type": "display_data"
    }
   ],
   "source": [
    "plt.scatter(h_dims, ktimes_old, color='C0', label=\"old Krylov\")\n",
    "plt.plot(h_dims, ktimes_old, color='C0', alpha = 0.5)\n",
    "\n",
    "plt.scatter(h_dims, ktimes_new, color='r', label=\"new Krylov\")\n",
    "plt.plot(h_dims, ktimes_new, color='r', alpha = 0.5)\n",
    "\n",
    "plt.xlabel(\"l\")\n",
    "plt.ylabel(\"runtime [s]\")\n",
    "\n",
    "plt.title(\"AD vs Krylov runtime\")\n",
    "plt.grid()\n",
    "plt.legend()\n",
    "\n",
    "plt.show()"
   ],
   "metadata": {
    "collapsed": false,
    "pycharm": {
     "name": "#%%\n"
    }
   }
  },
  {
   "cell_type": "code",
   "execution_count": null,
   "outputs": [],
   "source": [],
   "metadata": {
    "collapsed": false,
    "pycharm": {
     "name": "#%%\n"
    }
   }
  }
 ],
 "metadata": {
  "kernelspec": {
   "display_name": "Python 3",
   "language": "python",
   "name": "python3"
  },
  "language_info": {
   "codemirror_mode": {
    "name": "ipython",
    "version": 2
   },
   "file_extension": ".py",
   "mimetype": "text/x-python",
   "name": "python",
   "nbconvert_exporter": "python",
   "pygments_lexer": "ipython2",
   "version": "2.7.6"
  }
 },
 "nbformat": 4,
 "nbformat_minor": 0
}