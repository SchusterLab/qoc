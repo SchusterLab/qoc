{
 "cells": [
  {
   "cell_type": "code",
   "execution_count": 27,
   "metadata": {
    "collapsed": true
   },
   "outputs": [],
   "source": [
    "from qoc import grape_schroedinger_discrete\n",
    "from qoc.standard import TargetStateInfidelity\n",
    "\n",
    "import autograd.numpy as anp\n",
    "import numpy as np\n",
    "import matplotlib.pyplot as plt\n",
    "from scipy.sparse import dia_matrix\n",
    "\n",
    "%matplotlib inline"
   ]
  },
  {
   "cell_type": "code",
   "execution_count": 28,
   "outputs": [],
   "source": [
    "def naive_Krylov(N, l):\n",
    "    \"\"\"\n",
    "    This function contains a simple example of grape\n",
    "    on the schroedinger equation using time discrete\n",
    "    control parameters to evolve a cavity from the\n",
    "    Fock state 0 to the Fock state 1. Even though the\n",
    "    system is not physical, it can be used to measure\n",
    "    memory\n",
    "\n",
    "    Args:\n",
    "    N :: int - Numbers of time steps\n",
    "    l :: int - Hilbert space dimension\n",
    "    \"\"\"\n",
    "\n",
    "    HILBERT_SIZE = l\n",
    "    diagnol = np.arange(HILBERT_SIZE)\n",
    "    up_diagnol = np.sqrt(diagnol)\n",
    "    low_diagnol = np.sqrt(np.arange(1, HILBERT_SIZE + 1))\n",
    "    data = [low_diagnol, diagnol, up_diagnol]\n",
    "    offsets = [-1, 0, 1]\n",
    "    H_SYSTEM_0 = dia_matrix((data, offsets), shape=(HILBERT_SIZE, HILBERT_SIZE))\n",
    "    sigmax = dia_matrix(([low_diagnol, up_diagnol], [-1, 1]),\n",
    "                        shape=(HILBERT_SIZE, HILBERT_SIZE))\n",
    "\n",
    "    # Only real control amplitudes are supported!\n",
    "    hamiltonian = lambda controls, time: (H_SYSTEM_0\n",
    "                                          + controls[0] * sigmax)\n",
    "\n",
    "    # Define the problem.\n",
    "    CAVITY_VACUUM = anp.zeros((l, 1))\n",
    "    CAVITY_ZERO = anp.copy(CAVITY_VACUUM)\n",
    "    CAVITY_ZERO[0, 0] = 1\n",
    "    CAVITY_ONE = anp.copy(CAVITY_VACUUM)\n",
    "    CAVITY_ONE[1, 0] = 1\n",
    "    CAVITY_VACUUM = anp.zeros((l, 1))\n",
    "\n",
    "    INITIAL_STATE_0 = anp.copy(CAVITY_VACUUM)\n",
    "    INITIAL_STATE_0[0,0] = 1\n",
    "    TARGET_STATE_0 = anp.copy(CAVITY_VACUUM)\n",
    "    TARGET_STATE_0[1,0] = 1\n",
    "    INITIAL_STATES = anp.stack((INITIAL_STATE_0,), axis=0)\n",
    "    TARGET_STATES = anp.stack((TARGET_STATE_0,), axis=0)\n",
    "    COSTS = [TargetStateInfidelity(TARGET_STATES)]\n",
    "\n",
    "    # Define the optimization.\n",
    "    COMPLEX_CONTROLS = False\n",
    "    CONTROL_COUNT = 1\n",
    "    EVOLUTION_TIME = 1e-6  # nanoseconds\n",
    "    CONTROL_EVAL_COUNT = SYSTEM_EVAL_COUNT = N + 1\n",
    "    ITERATION_COUNT = 5\n",
    "\n",
    "    # Define output.\n",
    "    LOG_ITERATION_STEP = 1\n",
    "    CONTROL_HAMILTONIAN = [sigmax]\n",
    "\n",
    "    MANUAL_PARAMETER = {\"control_hamiltonian\": CONTROL_HAMILTONIAN,\n",
    "                        \"manual_gradient_mode\": True, \"tol\": 1e-6}\n",
    "\n",
    "    result = grape_schroedinger_discrete(CONTROL_COUNT, CONTROL_EVAL_COUNT,\n",
    "                                         COSTS, EVOLUTION_TIME, hamiltonian,\n",
    "                                         INITIAL_STATES, SYSTEM_EVAL_COUNT,\n",
    "                                         complex_controls=COMPLEX_CONTROLS,\n",
    "                                         iteration_count=ITERATION_COUNT,\n",
    "                                         log_iteration_step=LOG_ITERATION_STEP,\n",
    "                                         manual_parameter=MANUAL_PARAMETER)"
   ],
   "metadata": {
    "collapsed": false,
    "pycharm": {
     "name": "#%%\n"
    }
   }
  },
  {
   "cell_type": "code",
   "execution_count": 29,
   "outputs": [],
   "source": [
    "def AD(N, l):\n",
    "    \"\"\"\n",
    "    This function contains a simple example of grape\n",
    "    on the schroedinger equation using time discrete\n",
    "    control parameters to evolve a cavity from the\n",
    "    Fock state 0 to the Fock state 1. Even though the\n",
    "    system is not physical, it can be used to measure\n",
    "    memory\n",
    "\n",
    "    Args:\n",
    "    N :: int - Numbers of time steps\n",
    "    l :: int - Hilbert space dimension\n",
    "    \"\"\"\n",
    "\n",
    "    HILBERT_SIZE = l\n",
    "    diagnol = np.arange(HILBERT_SIZE)\n",
    "    up_diagnol = np.sqrt(diagnol)\n",
    "    low_diagnol = np.sqrt(np.arange(1, HILBERT_SIZE + 1))\n",
    "    data = [low_diagnol, diagnol, up_diagnol]\n",
    "    offsets = [-1, 0, 1]\n",
    "    H_SYSTEM_0 = dia_matrix((data, offsets), shape=(HILBERT_SIZE, HILBERT_SIZE))\n",
    "    sigmax = dia_matrix(([low_diagnol, up_diagnol], [-1, 1]),\n",
    "                        shape=(HILBERT_SIZE, HILBERT_SIZE))\n",
    "\n",
    "    H_SYSTEM_0 = anp.array(H_SYSTEM_0.toarray())\n",
    "    sigmax = anp.array(sigmax.toarray())\n",
    "\n",
    "    # Only real control amplitudes are supported!\n",
    "    hamiltonian = lambda controls, time: (H_SYSTEM_0\n",
    "                                          + controls[0] * sigmax)\n",
    "\n",
    "    # Define the problem.\n",
    "    CAVITY_VACUUM = anp.zeros((l, 1))\n",
    "    CAVITY_ZERO = anp.copy(CAVITY_VACUUM)\n",
    "    CAVITY_ZERO[0, 0] = 1\n",
    "    CAVITY_ONE = anp.copy(CAVITY_VACUUM)\n",
    "    CAVITY_ONE[1, 0] = 1\n",
    "    CAVITY_VACUUM = anp.zeros((l, 1))\n",
    "\n",
    "    INITIAL_STATE_0 = anp.copy(CAVITY_VACUUM)\n",
    "    INITIAL_STATE_0[0,0] = 1\n",
    "    TARGET_STATE_0 = anp.copy(CAVITY_VACUUM)\n",
    "    TARGET_STATE_0[1,0] = 1\n",
    "    INITIAL_STATES = anp.stack((INITIAL_STATE_0,), axis=0)\n",
    "    TARGET_STATES = anp.stack((TARGET_STATE_0,), axis=0)\n",
    "    COSTS = [TargetStateInfidelity(TARGET_STATES)]\n",
    "\n",
    "    # Define the optimization.\n",
    "    COMPLEX_CONTROLS = False\n",
    "    CONTROL_COUNT = 1\n",
    "    EVOLUTION_TIME = 1e-6  # nanoseconds\n",
    "    CONTROL_EVAL_COUNT = SYSTEM_EVAL_COUNT = N + 1\n",
    "    ITERATION_COUNT = 5\n",
    "\n",
    "    # Define output.\n",
    "    LOG_ITERATION_STEP = 1\n",
    "    CONTROL_HAMILTONIAN = [sigmax]\n",
    "\n",
    "    result = grape_schroedinger_discrete(CONTROL_COUNT, CONTROL_EVAL_COUNT,\n",
    "                                         COSTS, EVOLUTION_TIME, hamiltonian,\n",
    "                                         INITIAL_STATES, SYSTEM_EVAL_COUNT,\n",
    "                                         complex_controls=COMPLEX_CONTROLS,\n",
    "                                         iteration_count=ITERATION_COUNT,\n",
    "                                         log_iteration_step=LOG_ITERATION_STEP,)"
   ],
   "metadata": {
    "collapsed": false,
    "pycharm": {
     "name": "#%%\n"
    }
   }
  },
  {
   "cell_type": "code",
   "execution_count": 32,
   "outputs": [
    {
     "name": "stdout",
     "output_type": "stream",
     "text": [
      "iter   |   total error  |    grads_l2   \n",
      "=========================================\n",
      "  0    | 1.00000000e+00 | 9.33380951e-13\n",
      "  1    | 1.00000000e+00 | 9.33380985e-13\n",
      "  2    | 1.00000000e+00 | 9.33381018e-13\n",
      "  3    | 1.00000000e+00 | 9.33381052e-13\n",
      "  4    | 1.00000000e+00 | 9.33381086e-13\n",
      "iter   |   total error  |    grads_l2   \n",
      "=========================================\n",
      "  0    | 1.00000000e+00 | 9.33380951e-13\n",
      "  1    | 1.00000000e+00 | 9.33380985e-13\n",
      "  2    | 1.00000000e+00 | 9.33381018e-13\n",
      "  3    | 1.00000000e+00 | 9.33381052e-13\n",
      "  4    | 1.00000000e+00 | 9.33381086e-13\n",
      "iter   |   total error  |    grads_l2   \n",
      "=========================================\n",
      "  0    | 1.00000000e+00 | 9.33380951e-13\n",
      "  1    | 1.00000000e+00 | 9.33380985e-13\n",
      "  2    | 1.00000000e+00 | 9.33381018e-13\n",
      "  3    | 1.00000000e+00 | 9.33381052e-13\n",
      "  4    | 1.00000000e+00 | 9.33381086e-13\n",
      "iter   |   total error  |    grads_l2   \n",
      "=========================================\n",
      "  0    | 1.00000000e+00 | 9.33380951e-13\n",
      "  1    | 1.00000000e+00 | 9.33380985e-13\n",
      "  2    | 1.00000000e+00 | 9.33381018e-13\n",
      "  3    | 1.00000000e+00 | 9.33381052e-13\n",
      "  4    | 1.00000000e+00 | 9.33381086e-13\n",
      "iter   |   total error  |    grads_l2   \n",
      "=========================================\n",
      "  0    | 1.00000000e+00 | 9.33380951e-13\n",
      "  1    | 1.00000000e+00 | 9.33380985e-13\n",
      "  2    | 1.00000000e+00 | 9.33381018e-13\n",
      "  3    | 1.00000000e+00 | 9.33381052e-13\n",
      "  4    | 1.00000000e+00 | 9.33381086e-13\n",
      "iter   |   total error  |    grads_l2   \n",
      "=========================================\n",
      "  0    | 1.00000000e+00 | 9.33380951e-13\n",
      "  1    | 1.00000000e+00 | 9.33380985e-13\n",
      "  2    | 1.00000000e+00 | 9.33381018e-13\n",
      "  3    | 1.00000000e+00 | 9.33381052e-13\n",
      "  4    | 1.00000000e+00 | 9.33381086e-13\n",
      "iter   |   total error  |    grads_l2   \n",
      "=========================================\n",
      "  0    | 1.00000000e+00 | 9.33380951e-13\n",
      "  1    | 1.00000000e+00 | 9.33380985e-13\n",
      "  2    | 1.00000000e+00 | 9.33381018e-13\n",
      "  3    | 1.00000000e+00 | 9.33381052e-13\n",
      "  4    | 1.00000000e+00 | 9.33381086e-13\n",
      "iter   |   total error  |    grads_l2   \n",
      "=========================================\n",
      "  0    | 1.00000000e+00 | 9.33380951e-13\n",
      "  1    | 1.00000000e+00 | 9.33380985e-13\n",
      "  2    | 1.00000000e+00 | 9.33381018e-13\n",
      "  3    | 1.00000000e+00 | 9.33381052e-13\n",
      "  4    | 1.00000000e+00 | 9.33381086e-13\n",
      "iter   |   total error  |    grads_l2   \n",
      "=========================================\n",
      "  0    | 1.00000000e+00 | 9.33380951e-13\n",
      "  1    | 1.00000000e+00 | 9.33380985e-13\n",
      "  2    | 1.00000000e+00 | 9.33381018e-13\n",
      "  3    | 1.00000000e+00 | 9.33381052e-13\n",
      "  4    | 1.00000000e+00 | 9.33381086e-13\n",
      "iter   |   total error  |    grads_l2   \n",
      "=========================================\n",
      "  0    | 1.00000000e+00 | 9.33380951e-13\n",
      "  1    | 1.00000000e+00 | 9.33380985e-13\n",
      "  2    | 1.00000000e+00 | 9.33381018e-13\n",
      "  3    | 1.00000000e+00 | 9.33381052e-13\n",
      "  4    | 1.00000000e+00 | 9.33381086e-13\n"
     ]
    }
   ],
   "source": [
    "# naive Krylov output\n",
    "h_dims = range(10, 1000, 100)\n",
    "ktimes = []\n",
    "for dim in h_dims:\n",
    "    kstart = time.time()\n",
    "    naive_Krylov(5, dim)\n",
    "    kend = time.time()\n",
    "\n",
    "    ktime = kend-kstart\n",
    "    ktimes.append(ktime)"
   ],
   "metadata": {
    "collapsed": false,
    "pycharm": {
     "name": "#%%\n"
    }
   }
  },
  {
   "cell_type": "code",
   "execution_count": 33,
   "outputs": [
    {
     "name": "stdout",
     "output_type": "stream",
     "text": [
      "iter   |   total error  |    grads_l2   \n",
      "=========================================\n",
      "  0    | 1.00000000e+00 | 9.33380951e-13\n",
      "  1    | 1.00000000e+00 | 9.33380985e-13\n",
      "  2    | 1.00000000e+00 | 9.33381018e-13\n",
      "  3    | 1.00000000e+00 | 9.33381052e-13\n",
      "  4    | 1.00000000e+00 | 9.33381086e-13\n",
      "iter   |   total error  |    grads_l2   \n",
      "=========================================\n",
      "  0    | 1.00000000e+00 | 9.33380951e-13\n",
      "  1    | 1.00000000e+00 | 9.33380985e-13\n",
      "  2    | 1.00000000e+00 | 9.33381018e-13\n",
      "  3    | 1.00000000e+00 | 9.33381052e-13\n",
      "  4    | 1.00000000e+00 | 9.33381086e-13\n",
      "iter   |   total error  |    grads_l2   \n",
      "=========================================\n",
      "  0    | 1.00000000e+00 | 9.33380951e-13\n",
      "  1    | 1.00000000e+00 | 9.33380985e-13\n",
      "  2    | 1.00000000e+00 | 9.33381018e-13\n",
      "  3    | 1.00000000e+00 | 9.33381052e-13\n",
      "  4    | 1.00000000e+00 | 9.33381086e-13\n",
      "iter   |   total error  |    grads_l2   \n",
      "=========================================\n",
      "  0    | 1.00000000e+00 | 9.33380951e-13\n",
      "  1    | 1.00000000e+00 | 9.33380985e-13\n",
      "  2    | 1.00000000e+00 | 9.33381018e-13\n",
      "  3    | 1.00000000e+00 | 9.33381052e-13\n",
      "  4    | 1.00000000e+00 | 9.33381086e-13\n",
      "iter   |   total error  |    grads_l2   \n",
      "=========================================\n",
      "  0    | 1.00000000e+00 | 9.33380951e-13\n",
      "  1    | 1.00000000e+00 | 9.33380985e-13\n",
      "  2    | 1.00000000e+00 | 9.33381018e-13\n",
      "  3    | 1.00000000e+00 | 9.33381052e-13\n",
      "  4    | 1.00000000e+00 | 9.33381086e-13\n",
      "iter   |   total error  |    grads_l2   \n",
      "=========================================\n",
      "  0    | 1.00000000e+00 | 9.33380951e-13\n",
      "  1    | 1.00000000e+00 | 9.33380985e-13\n",
      "  2    | 1.00000000e+00 | 9.33381018e-13\n",
      "  3    | 1.00000000e+00 | 9.33381052e-13\n",
      "  4    | 1.00000000e+00 | 9.33381086e-13\n",
      "iter   |   total error  |    grads_l2   \n",
      "=========================================\n",
      "  0    | 1.00000000e+00 | 9.33380951e-13\n",
      "  1    | 1.00000000e+00 | 9.33380985e-13\n",
      "  2    | 1.00000000e+00 | 9.33381018e-13\n",
      "  3    | 1.00000000e+00 | 9.33381052e-13\n",
      "  4    | 1.00000000e+00 | 9.33381086e-13\n",
      "iter   |   total error  |    grads_l2   \n",
      "=========================================\n",
      "  0    | 1.00000000e+00 | 9.33380951e-13\n",
      "  1    | 1.00000000e+00 | 9.33380985e-13\n",
      "  2    | 1.00000000e+00 | 9.33381018e-13\n",
      "  3    | 1.00000000e+00 | 9.33381052e-13\n",
      "  4    | 1.00000000e+00 | 9.33381086e-13\n",
      "iter   |   total error  |    grads_l2   \n",
      "=========================================\n",
      "  0    | 1.00000000e+00 | 9.33380951e-13\n",
      "  1    | 1.00000000e+00 | 9.33380985e-13\n",
      "  2    | 1.00000000e+00 | 9.33381018e-13\n",
      "  3    | 1.00000000e+00 | 9.33381052e-13\n",
      "  4    | 1.00000000e+00 | 9.33381086e-13\n",
      "iter   |   total error  |    grads_l2   \n",
      "=========================================\n",
      "  0    | 1.00000000e+00 | 9.33380951e-13\n",
      "  1    | 1.00000000e+00 | 9.33380985e-13\n",
      "  2    | 1.00000000e+00 | 9.33381018e-13\n",
      "  3    | 1.00000000e+00 | 9.33381052e-13\n",
      "  4    | 1.00000000e+00 | 9.33381086e-13\n"
     ]
    }
   ],
   "source": [
    "# AD output\n",
    "adtimes = []\n",
    "for dim in h_dims:\n",
    "    adstart = time.time()\n",
    "    AD(5, dim)\n",
    "    adend = time.time()\n",
    "\n",
    "    adtime = adend-adstart\n",
    "    adtimes.append(adtime)"
   ],
   "metadata": {
    "collapsed": false,
    "pycharm": {
     "name": "#%%\n"
    }
   }
  },
  {
   "cell_type": "code",
   "execution_count": 34,
   "outputs": [
    {
     "data": {
      "text/plain": "<Figure size 432x288 with 1 Axes>",
      "image/png": "[encoded data removed]"
     },
     "metadata": {
      "needs_background": "light"
     },
     "output_type": "display_data"
    }
   ],
   "source": [
    "plt.scatter(h_dims, adtimes, color='C0', label=\"AD\")\n",
    "plt.plot(h_dims, adtimes, color='C0', alpha = 0.5)\n",
    "\n",
    "plt.scatter(h_dims, ktimes, color='r', label=\"Krylov\")\n",
    "plt.plot(h_dims, ktimes, color='r', alpha = 0.5)\n",
    "\n",
    "plt.xlabel(\"l\")\n",
    "plt.ylabel(\"runtime [s]\")\n",
    "\n",
    "plt.title(\"AD vs Krylov runtime\")\n",
    "plt.grid()\n",
    "plt.legend()\n",
    "\n",
    "plt.show()"
   ],
   "metadata": {
    "collapsed": false,
    "pycharm": {
     "name": "#%%\n"
    }
   }
  },
  {
   "cell_type": "code",
   "execution_count": 35,
   "outputs": [
    {
     "name": "stdout",
     "output_type": "stream",
     "text": [
      "[0.1898491382598877, 0.5633950233459473, 0.6736938953399658, 0.6977560520172119, 0.8792262077331543, 0.8070337772369385, 1.0527050495147705, 1.2177798748016357, 1.209434986114502, 1.2146077156066895]\n",
      "[0.12549805641174316, 0.3137378692626953, 1.0548009872436523, 2.440361976623535, 5.16273307800293, 8.718554973602295, 13.897977113723755, 18.615697145462036, 27.014513731002808, 42.077934980392456]\n"
     ]
    }
   ],
   "source": [
    "print(ktimes)\n",
    "print(adtimes)"
   ],
   "metadata": {
    "collapsed": false,
    "pycharm": {
     "name": "#%%\n"
    }
   }
  },
  {
   "cell_type": "code",
   "execution_count": null,
   "outputs": [],
   "source": [],
   "metadata": {
    "collapsed": false,
    "pycharm": {
     "name": "#%%\n"
    }
   }
  }
 ],
 "metadata": {
  "kernelspec": {
   "display_name": "Python 3",
   "language": "python",
   "name": "python3"
  },
  "language_info": {
   "codemirror_mode": {
    "name": "ipython",
    "version": 2
   },
   "file_extension": ".py",
   "mimetype": "text/x-python",
   "name": "python",
   "nbconvert_exporter": "python",
   "pygments_lexer": "ipython2",
   "version": "2.7.6"
  }
 },
 "nbformat": 4,
 "nbformat_minor": 0
}