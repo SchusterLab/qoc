{
 "cells": [
  {
   "cell_type": "code",
   "execution_count": 1,
   "metadata": {
    "collapsed": true
   },
   "outputs": [],
   "source": [
    "import sys\n",
    "sys.path.insert(1, '../')\n",
    "from test_func.common_func import manual\n",
    "\n",
    "import matplotlib.pyplot as plt\n",
    "import time\n",
    "\n",
    "%matplotlib inline"
   ]
  },
  {
   "cell_type": "code",
   "execution_count": null,
   "outputs": [
    {
     "name": "stdout",
     "output_type": "stream",
     "text": [
      "iter   |   total error  |    grads_l2   \n",
      "=========================================\n"
     ]
    },
    {
     "name": "stderr",
     "output_type": "stream",
     "text": [
      "--------------------------------------------------------------------------\n",
      "There are not enough slots available in the system to satisfy the 8\n",
      "slots that were requested by the application:\n",
      "\n",
      "  /Users/sdinh/miniconda3/envs/qoc/bin/python\n",
      "\n",
      "Either request fewer slots for your application, or make more slots\n",
      "available for use.\n",
      "\n",
      "A \"slot\" is the Open MPI term for an allocatable unit where we can\n",
      "launch a process.  The number of slots available are defined by the\n",
      "environment in which Open MPI processes are run:\n",
      "\n",
      "  1. Hostfile, via \"slots=N\" clauses (N defaults to number of\n",
      "     processor cores if not provided)\n",
      "  2. The --host command line parameter, via a \":N\" suffix on the\n",
      "     hostname (N defaults to 1 if not provided)\n",
      "  3. Resource manager (e.g., SLURM, PBS/Torque, LSF, etc.)\n",
      "  4. If none of a hostfile, the --host command line parameter, or an\n",
      "     RM is present, Open MPI defaults to the number of processor cores\n",
      "\n",
      "In all the above cases, if you want Open MPI to default to the number\n",
      "of hardware threads instead of the number of processor cores, use the\n",
      "--use-hwthread-cpus option.\n",
      "\n",
      "Alternatively, you can use the --oversubscribe option to ignore the\n",
      "number of available slots when deciding the number of processes to\n",
      "launch.\n",
      "--------------------------------------------------------------------------\n",
      "Exception in thread Thread-7:\n",
      "Traceback (most recent call last):\n",
      "  File \"/Users/sdinh/miniconda3/envs/qoc/lib/python3.9/threading.py\", line 973, in _bootstrap_inner\n",
      "    self.run()\n",
      "  File \"/Users/sdinh/miniconda3/envs/qoc/lib/python3.9/threading.py\", line 910, in run\n",
      "    self._target(*self._args, **self._kwargs)\n",
      "  File \"/Users/sdinh/miniconda3/envs/qoc/lib/python3.9/site-packages/mpi4py/futures/_lib.py\", line 289, in _manager_spawn\n",
      "    comm = serialized(client_spawn)(pyexe, pyargs, nprocs, info)\n",
      "  File \"/Users/sdinh/miniconda3/envs/qoc/lib/python3.9/site-packages/mpi4py/futures/_lib.py\", line 900, in client_spawn\n",
      "    comm = MPI.COMM_SELF.Spawn(python_exe, args, max_workers, info)\n",
      "  File \"mpi4py/MPI/Comm.pyx\", line 1931, in mpi4py.MPI.Intracomm.Spawn\n",
      "mpi4py.MPI.Exception: MPI_ERR_SPAWN: could not spawn processes\n"
     ]
    }
   ],
   "source": [
    "# naive Krylov output\n",
    "h_dims = range(10, 1000, 100)\n",
    "ktimes_slepck = []\n",
    "for dim in h_dims:\n",
    "    kstart = time.time()\n",
    "    manual(5, dim)\n",
    "    kend = time.time()\n",
    "\n",
    "    ktime = kend-kstart\n",
    "    ktimes_slepck.append(ktime)"
   ],
   "metadata": {
    "collapsed": false,
    "pycharm": {
     "name": "#%%\n",
     "is_executing": true
    }
   }
  },
  {
   "cell_type": "code",
   "execution_count": 11,
   "outputs": [
    {
     "name": "stdout",
     "output_type": "stream",
     "text": [
      "[0.21921825408935547, 0.5228598117828369, 0.6119430065155029, 0.6396839618682861, 0.6399848461151123, 0.709069013595581, 0.7246878147125244, 0.7953321933746338, 0.858288049697876, 0.8788716793060303]\n"
     ]
    }
   ],
   "source": [
    "adtimes = [0.12549805641174316, 0.3137378692626953, 1.0548009872436523, 2.440361976623535, 5.16273307800293, 8.718554973602295, 13.897977113723755, 18.615697145462036, 27.014513731002808, 42.077934980392456]\n",
    "ktimes_old = [0.1898491382598877, 0.5633950233459473, 0.6736938953399658, 0.6977560520172119, 0.8792262077331543, 0.8070337772369385, 1.0527050495147705, 1.2177798748016357, 1.209434986114502, 1.2146077156066895]\n",
    "ktimes_new = [0.2308180332183838, 0.5363681316375732, 0.6581361293792725, 0.6247711181640625, 0.6761720180511475, 0.7147650718688965, 0.7632489204406738, 0.8393259048461914, 0.8628678321838379, 0.9217147827148438]\n",
    "ktimes_scipy = [0.13176989555358887, 0.13581418991088867, 0.12553811073303223, 0.1103360652923584, 0.11827301979064941, 0.1321089267730713, 0.12587904930114746, 0.16336393356323242, 0.16615009307861328, 0.12619781494140625]\n",
    "ktimes_slepc = [0.21921825408935547, 0.5228598117828369, 0.6119430065155029, 0.6396839618682861, 0.6399848461151123, 0.709069013595581, 0.7246878147125244, 0.7953321933746338, 0.858288049697876, 0.8788716793060303]"
   ],
   "metadata": {
    "collapsed": false,
    "pycharm": {
     "name": "#%%\n"
    }
   }
  },
  {
   "cell_type": "code",
   "execution_count": 14,
   "outputs": [
    {
     "data": {
      "text/plain": "<Figure size 432x288 with 1 Axes>",
      "image/png": "[encoded data removed]"
     },
     "metadata": {
      "needs_background": "light"
     },
     "output_type": "display_data"
    }
   ],
   "source": [
    "plt.scatter(h_dims, ktimes_scipy, color='C0', label=\"scipy\")\n",
    "plt.plot(h_dims, ktimes_scipy, color='C0', alpha = 0.5)\n",
    "\n",
    "plt.scatter(h_dims, ktimes_slepc, color='r', label=\"slepc\")\n",
    "plt.plot(h_dims, ktimes_slepc, color='r', alpha = 0.5)\n",
    "\n",
    "plt.xlabel(\"l\")\n",
    "plt.ylabel(\"runtime [s]\")\n",
    "\n",
    "plt.title(\"AD vs Krylov runtime\")\n",
    "plt.grid()\n",
    "plt.legend()\n",
    "\n",
    "plt.show()"
   ],
   "metadata": {
    "collapsed": false,
    "pycharm": {
     "name": "#%%\n"
    }
   }
  },
  {
   "cell_type": "code",
   "execution_count": null,
   "outputs": [],
   "source": [],
   "metadata": {
    "collapsed": false,
    "pycharm": {
     "name": "#%%\n"
    }
   }
  }
 ],
 "metadata": {
  "kernelspec": {
   "name": "pycharm-7a3548ba",
   "language": "python",
   "display_name": "PyCharm (qoc)"
  },
  "language_info": {
   "codemirror_mode": {
    "name": "ipython",
    "version": 2
   },
   "file_extension": ".py",
   "mimetype": "text/x-python",
   "name": "python",
   "nbconvert_exporter": "python",
   "pygments_lexer": "ipython2",
   "version": "2.7.6"
  }
 },
 "nbformat": 4,
 "nbformat_minor": 0
}