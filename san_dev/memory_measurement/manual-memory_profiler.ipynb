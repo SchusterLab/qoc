{
 "cells": [
  {
   "cell_type": "code",
   "execution_count": 14,
   "outputs": [],
   "source": [
    "from qoc import grape_schroedinger_discrete\n",
    "from qoc.standard import TargetStateInfidelity\n",
    "\n",
    "import autograd.numpy as anp\n",
    "import numpy as np\n",
    "import matplotlib.pyplot as plt\n",
    "from scipy.sparse import dia_matrix\n",
    "\n",
    "%matplotlib inline\n",
    "%reload_ext memory_profiler\n",
    "\n",
    "from filprofiler.api import profile"
   ],
   "metadata": {
    "collapsed": false,
    "pycharm": {
     "name": "#%%\n"
    }
   }
  },
  {
   "cell_type": "code",
   "execution_count": 2,
   "outputs": [],
   "source": [
    "# Define the system.\n",
    "def get_memory_manually(N, l):\n",
    "    \"\"\"\n",
    "    This function contains a simple example of grape\n",
    "    on the schroedinger equation using time discrete\n",
    "    control parameters to evolve a cavity from the\n",
    "    Fock state 0 to the Fock state 1. Even though the\n",
    "    system is not physical, it can be used to measure\n",
    "    memory\n",
    "\n",
    "    Args:\n",
    "    N :: int - Numbers of time steps\n",
    "    l :: int - Hilbert space dimension\n",
    "    \"\"\"\n",
    "\n",
    "    HILBERT_SIZE = l\n",
    "    diagnol=np.arange(HILBERT_SIZE)\n",
    "    up_diagnol = np.sqrt(diagnol)\n",
    "    low_diagnol = np.sqrt(np.arange(1, HILBERT_SIZE + 1))\n",
    "    data = [low_diagnol, diagnol, up_diagnol]\n",
    "    offsets = [-1, 0, 1]\n",
    "    H_SYSTEM_0 = dia_matrix((data, offsets), shape=(HILBERT_SIZE, HILBERT_SIZE))\n",
    "    sigmax = dia_matrix(([low_diagnol, up_diagnol], [-1, 1]),\n",
    "                        shape=(HILBERT_SIZE, HILBERT_SIZE))\n",
    "\n",
    "    # Only real control amplitudes are supported!\n",
    "    hamiltonian = lambda controls, time: (H_SYSTEM_0\n",
    "                                          + controls[0] * sigmax)\n",
    "\n",
    "    # Define the problem.\n",
    "    CAVITY_VACUUM = anp.zeros((l, 1))\n",
    "    CAVITY_ZERO = anp.copy(CAVITY_VACUUM)\n",
    "    CAVITY_ZERO[0, 0] = 1\n",
    "    CAVITY_ONE = anp.copy(CAVITY_VACUUM)\n",
    "    CAVITY_ONE[1, 0] = 1\n",
    "    CAVITY_VACUUM = anp.zeros((l, 1))\n",
    "\n",
    "    INITIAL_STATE_0 = anp.copy(CAVITY_VACUUM)\n",
    "    INITIAL_STATE_0[0,0] = 1\n",
    "    TARGET_STATE_0 = anp.copy(CAVITY_VACUUM)\n",
    "    TARGET_STATE_0[1,0] = 1\n",
    "    INITIAL_STATES = anp.stack((INITIAL_STATE_0,), axis=0)\n",
    "    TARGET_STATES = anp.stack((TARGET_STATE_0,), axis=0)\n",
    "    COSTS = [TargetStateInfidelity(TARGET_STATES)]\n",
    "\n",
    "    # Define the optimization.\n",
    "    COMPLEX_CONTROLS = False\n",
    "    CONTROL_COUNT = 1\n",
    "    EVOLUTION_TIME = 1e-6  # nanoseconds\n",
    "    CONTROL_EVAL_COUNT = SYSTEM_EVAL_COUNT = N + 1\n",
    "    ITERATION_COUNT = 1\n",
    "\n",
    "    # Define output.\n",
    "    LOG_ITERATION_STEP = 1\n",
    "    CONTROL_HAMILTONIAN = [sigmax]\n",
    "\n",
    "    MANUAL_PARAMETER = {\"control_hamiltonian\": CONTROL_HAMILTONIAN,\n",
    "                        \"manual_gradient_mode\": True, \"tol\": 1e-6}\n",
    "\n",
    "    result = grape_schroedinger_discrete(CONTROL_COUNT, CONTROL_EVAL_COUNT,\n",
    "                                         COSTS, EVOLUTION_TIME, hamiltonian,\n",
    "                                         INITIAL_STATES, SYSTEM_EVAL_COUNT,\n",
    "                                         complex_controls=COMPLEX_CONTROLS,\n",
    "                                         iteration_count=ITERATION_COUNT,\n",
    "                                         log_iteration_step=LOG_ITERATION_STEP,\n",
    "                                         manual_parameter=MANUAL_PARAMETER)"
   ],
   "metadata": {
    "collapsed": false,
    "pycharm": {
     "name": "#%%\n"
    }
   }
  },
  {
   "cell_type": "code",
   "execution_count": 3,
   "outputs": [],
   "source": [
    "def memory_plot(h_dim, mem_mean):\n",
    "    x = h_dim\n",
    "    y = mem_mean\n",
    "\n",
    "    plt.scatter(x, y, color='C0')\n",
    "    plt.plot(x, y, color='C0', alpha = 0.5)\n",
    "\n",
    "    plt.xscale(\"log\")\n",
    "    plt.xlabel(\"l\")\n",
    "    plt.ylabel(\"Memory usage [MiB]\")\n",
    "\n",
    "    plt.show()"
   ],
   "metadata": {
    "collapsed": false,
    "pycharm": {
     "name": "#%%\n"
    }
   }
  },
  {
   "cell_type": "code",
   "execution_count": 4,
   "outputs": [
    {
     "name": "stdout",
     "output_type": "stream",
     "text": [
      "iter   |   total error  |    grads_l2   \n",
      "=========================================\n",
      "  0    | 1.00000000e+00 | 1.55563492e-12\n",
      "peak memory: 161.23 MiB, increment: 1.15 MiB\n",
      "iter   |   total error  |    grads_l2   \n",
      "=========================================\n",
      "  0    | 1.00000000e+00 | 1.55563492e-12\n",
      "peak memory: 162.59 MiB, increment: 1.35 MiB\n",
      "iter   |   total error  |    grads_l2   \n",
      "=========================================\n",
      "  0    | 1.00000000e+00 | 1.55563492e-12\n",
      "peak memory: 175.71 MiB, increment: 13.09 MiB\n",
      "iter   |   total error  |    grads_l2   \n",
      "=========================================\n",
      "  0    | 1.00000000e+00 | 1.55563492e-12\n",
      "peak memory: 401.84 MiB, increment: 226.13 MiB\n"
     ]
    }
   ],
   "source": [
    "# using memory_profiler\n",
    "# total number of time step\n",
    "N_ = 1\n",
    "\n",
    "mem_ma_Nfixed = []\n",
    "h_dims = [int(10**i) for i in range(1, 5, 1)]\n",
    "\n",
    "for dim in h_dims:\n",
    "    mem_temp = %memit -r1 -i0.0001 -o get_memory_manually(N_, dim)\n",
    "    mem_temp = np.array(mem_temp.mem_usage)\n",
    "\n",
    "    mem_ma_Nfixed.append(np.average(mem_temp))"
   ],
   "metadata": {
    "collapsed": false,
    "pycharm": {
     "name": "#%%\n"
    }
   }
  },
  {
   "cell_type": "code",
   "execution_count": 5,
   "outputs": [
    {
     "data": {
      "text/plain": "<Figure size 432x288 with 1 Axes>",
      "image/png": "[encoded data removed]"
     },
     "metadata": {
      "needs_background": "light"
     },
     "output_type": "display_data"
    }
   ],
   "source": [
    "# plotting memory_profiler results\n",
    "memory_plot(h_dims, mem_ma_Nfixed)"
   ],
   "metadata": {
    "collapsed": false,
    "pycharm": {
     "name": "#%%\n"
    }
   }
  },
  {
   "cell_type": "code",
   "execution_count": null,
   "outputs": [],
   "source": [],
   "metadata": {
    "collapsed": false,
    "pycharm": {
     "name": "#%%\n"
    }
   }
  }
 ],
 "metadata": {
  "kernelspec": {
   "display_name": "Python 3",
   "language": "python",
   "name": "python3"
  },
  "language_info": {
   "codemirror_mode": {
    "name": "ipython",
    "version": 3
   },
   "file_extension": ".py",
   "mimetype": "text/x-python",
   "name": "python",
   "nbconvert_exporter": "python",
   "pygments_lexer": "ipython3",
   "version": "3.6.12"
  }
 },
 "nbformat": 4,
 "nbformat_minor": 4
}