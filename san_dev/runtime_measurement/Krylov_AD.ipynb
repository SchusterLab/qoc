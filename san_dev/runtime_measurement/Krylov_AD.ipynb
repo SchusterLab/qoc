{
 "cells": [
  {
   "cell_type": "code",
   "execution_count": 14,
   "metadata": {
    "collapsed": true
   },
   "outputs": [],
   "source": [
    "import os\n",
    "os.environ['OMP_NUM_THREADS'] = '4' # set number of OpenMP threads to run in parallel\n",
    "\n",
    "from qoc import grape_schroedinger_discrete\n",
    "from qoc.standard import TargetStateInfidelity\n",
    "\n",
    "import autograd.numpy as anp\n",
    "import numpy as np\n",
    "import matplotlib.pyplot as plt\n",
    "from scipy.sparse import dia_matrix\n",
    "\n",
    "import time\n",
    "\n",
    "%matplotlib inline"
   ]
  },
  {
   "cell_type": "code",
   "execution_count": 15,
   "outputs": [],
   "source": [
    "def scipy_expv(N, l):\n",
    "    \"\"\"\n",
    "    This function contains a simple example of grape\n",
    "    on the schroedinger equation using time discrete\n",
    "    control parameters to evolve a cavity from the\n",
    "    Fock state 0 to the Fock state 1. Even though the\n",
    "    system is not physical, it can be used to measure\n",
    "    memory\n",
    "\n",
    "    Args:\n",
    "    N :: int - Numbers of time steps\n",
    "    l :: int - Hilbert space dimension\n",
    "    \"\"\"\n",
    "\n",
    "    HILBERT_SIZE = l\n",
    "    diagnol = np.arange(HILBERT_SIZE)\n",
    "    up_diagnol = np.sqrt(diagnol)\n",
    "    low_diagnol = np.sqrt(np.arange(1, HILBERT_SIZE + 1))\n",
    "    data = [low_diagnol, diagnol, up_diagnol]\n",
    "    offsets = [-1, 0, 1]\n",
    "    H_SYSTEM_0 = dia_matrix((data, offsets), shape=(HILBERT_SIZE, HILBERT_SIZE))\n",
    "    sigmax = dia_matrix(([low_diagnol, up_diagnol], [-1, 1]),\n",
    "                        shape=(HILBERT_SIZE, HILBERT_SIZE))\n",
    "\n",
    "    # Only real control amplitudes are supported!\n",
    "    hamiltonian = lambda controls, time: (H_SYSTEM_0\n",
    "                                          + controls[0] * sigmax)\n",
    "\n",
    "    # Define the problem.\n",
    "    CAVITY_VACUUM = anp.zeros((l, 1))\n",
    "    CAVITY_ZERO = anp.copy(CAVITY_VACUUM)\n",
    "    CAVITY_ZERO[0, 0] = 1\n",
    "    CAVITY_ONE = anp.copy(CAVITY_VACUUM)\n",
    "    CAVITY_ONE[1, 0] = 1\n",
    "    CAVITY_VACUUM = anp.zeros((l, 1))\n",
    "\n",
    "    INITIAL_STATE_0 = anp.copy(CAVITY_VACUUM)\n",
    "    INITIAL_STATE_0[0,0] = 1\n",
    "    TARGET_STATE_0 = anp.copy(CAVITY_VACUUM)\n",
    "    TARGET_STATE_0[1,0] = 1\n",
    "    INITIAL_STATES = anp.stack((INITIAL_STATE_0,), axis=0)\n",
    "    TARGET_STATES = anp.stack((TARGET_STATE_0,), axis=0)\n",
    "    COSTS = [TargetStateInfidelity(TARGET_STATES)]\n",
    "\n",
    "    # Define the optimization.\n",
    "    COMPLEX_CONTROLS = False\n",
    "    CONTROL_COUNT = 1\n",
    "    EVOLUTION_TIME = 1e-6  # nanoseconds\n",
    "    CONTROL_EVAL_COUNT = SYSTEM_EVAL_COUNT = N + 1\n",
    "    ITERATION_COUNT = 5\n",
    "\n",
    "    # Define output.\n",
    "    LOG_ITERATION_STEP = 1\n",
    "    CONTROL_HAMILTONIAN = [sigmax]\n",
    "\n",
    "    MANUAL_PARAMETER = {\"control_hamiltonian\": CONTROL_HAMILTONIAN,\n",
    "                        \"manual_gradient_mode\": True, \"tol\": 1e-6}\n",
    "\n",
    "    result = grape_schroedinger_discrete(CONTROL_COUNT, CONTROL_EVAL_COUNT,\n",
    "                                         COSTS, EVOLUTION_TIME, hamiltonian,\n",
    "                                         INITIAL_STATES, SYSTEM_EVAL_COUNT,\n",
    "                                         complex_controls=COMPLEX_CONTROLS,\n",
    "                                         iteration_count=ITERATION_COUNT,\n",
    "                                         log_iteration_step=LOG_ITERATION_STEP,\n",
    "                                         manual_parameter=MANUAL_PARAMETER)"
   ],
   "metadata": {
    "collapsed": false,
    "pycharm": {
     "name": "#%%\n"
    }
   }
  },
  {
   "cell_type": "code",
   "execution_count": 16,
   "outputs": [],
   "source": [
    "def AD(N, l):\n",
    "    \"\"\"\n",
    "    This function contains a simple example of grape\n",
    "    on the schroedinger equation using time discrete\n",
    "    control parameters to evolve a cavity from the\n",
    "    Fock state 0 to the Fock state 1. Even though the\n",
    "    system is not physical, it can be used to measure\n",
    "    memory\n",
    "\n",
    "    Args:\n",
    "    N :: int - Numbers of time steps\n",
    "    l :: int - Hilbert space dimension\n",
    "    \"\"\"\n",
    "\n",
    "    HILBERT_SIZE = l\n",
    "    diagnol = np.arange(HILBERT_SIZE)\n",
    "    up_diagnol = np.sqrt(diagnol)\n",
    "    low_diagnol = np.sqrt(np.arange(1, HILBERT_SIZE + 1))\n",
    "    data = [low_diagnol, diagnol, up_diagnol]\n",
    "    offsets = [-1, 0, 1]\n",
    "    H_SYSTEM_0 = dia_matrix((data, offsets), shape=(HILBERT_SIZE, HILBERT_SIZE))\n",
    "    sigmax = dia_matrix(([low_diagnol, up_diagnol], [-1, 1]),\n",
    "                        shape=(HILBERT_SIZE, HILBERT_SIZE))\n",
    "\n",
    "    H_SYSTEM_0 = anp.array(H_SYSTEM_0.toarray())\n",
    "    sigmax = anp.array(sigmax.toarray())\n",
    "\n",
    "    # Only real control amplitudes are supported!\n",
    "    hamiltonian = lambda controls, time: (H_SYSTEM_0\n",
    "                                          + controls[0] * sigmax)\n",
    "\n",
    "    # Define the problem.\n",
    "    CAVITY_VACUUM = anp.zeros((l, 1))\n",
    "    CAVITY_ZERO = anp.copy(CAVITY_VACUUM)\n",
    "    CAVITY_ZERO[0, 0] = 1\n",
    "    CAVITY_ONE = anp.copy(CAVITY_VACUUM)\n",
    "    CAVITY_ONE[1, 0] = 1\n",
    "    CAVITY_VACUUM = anp.zeros((l, 1))\n",
    "\n",
    "    INITIAL_STATE_0 = anp.copy(CAVITY_VACUUM)\n",
    "    INITIAL_STATE_0[0,0] = 1\n",
    "    TARGET_STATE_0 = anp.copy(CAVITY_VACUUM)\n",
    "    TARGET_STATE_0[1,0] = 1\n",
    "    INITIAL_STATES = anp.stack((INITIAL_STATE_0,), axis=0)\n",
    "    TARGET_STATES = anp.stack((TARGET_STATE_0,), axis=0)\n",
    "    COSTS = [TargetStateInfidelity(TARGET_STATES)]\n",
    "\n",
    "    # Define the optimization.\n",
    "    COMPLEX_CONTROLS = False\n",
    "    CONTROL_COUNT = 1\n",
    "    EVOLUTION_TIME = 1e-6  # nanoseconds\n",
    "    CONTROL_EVAL_COUNT = SYSTEM_EVAL_COUNT = N + 1\n",
    "    ITERATION_COUNT = 5\n",
    "\n",
    "    # Define output.\n",
    "    LOG_ITERATION_STEP = 1\n",
    "    CONTROL_HAMILTONIAN = [sigmax]\n",
    "\n",
    "    result = grape_schroedinger_discrete(CONTROL_COUNT, CONTROL_EVAL_COUNT,\n",
    "                                         COSTS, EVOLUTION_TIME, hamiltonian,\n",
    "                                         INITIAL_STATES, SYSTEM_EVAL_COUNT,\n",
    "                                         complex_controls=COMPLEX_CONTROLS,\n",
    "                                         iteration_count=ITERATION_COUNT,\n",
    "                                         log_iteration_step=LOG_ITERATION_STEP,)"
   ],
   "metadata": {
    "collapsed": false,
    "pycharm": {
     "name": "#%%\n"
    }
   }
  },
  {
   "cell_type": "code",
   "execution_count": 21,
   "outputs": [
    {
     "name": "stdout",
     "output_type": "stream",
     "text": [
      "iter   |   total error  |    grads_l2   \n",
      "=========================================\n",
      "  0    | 1.00000000e+00 | 9.33380951e-13\n",
      "  1    | 1.00000000e+00 | 9.33380985e-13\n",
      "  2    | 1.00000000e+00 | 9.33381018e-13\n",
      "  3    | 1.00000000e+00 | 9.33381052e-13\n",
      "  4    | 1.00000000e+00 | 9.33381086e-13\n",
      "iter   |   total error  |    grads_l2   \n",
      "=========================================\n",
      "  0    | 1.00000000e+00 | 9.33380951e-13\n",
      "  1    | 1.00000000e+00 | 9.33380985e-13\n",
      "  2    | 1.00000000e+00 | 9.33381018e-13\n",
      "  3    | 1.00000000e+00 | 9.33381052e-13\n",
      "  4    | 1.00000000e+00 | 9.33381086e-13\n",
      "iter   |   total error  |    grads_l2   \n",
      "=========================================\n",
      "  0    | 1.00000000e+00 | 9.33380951e-13\n",
      "  1    | 1.00000000e+00 | 9.33380985e-13\n",
      "  2    | 1.00000000e+00 | 9.33381018e-13\n",
      "  3    | 1.00000000e+00 | 9.33381052e-13\n",
      "  4    | 1.00000000e+00 | 9.33381086e-13\n",
      "iter   |   total error  |    grads_l2   \n",
      "=========================================\n",
      "  0    | 1.00000000e+00 | 9.33380951e-13\n",
      "  1    | 1.00000000e+00 | 9.33380985e-13\n",
      "  2    | 1.00000000e+00 | 9.33381018e-13\n",
      "  3    | 1.00000000e+00 | 9.33381052e-13\n",
      "  4    | 1.00000000e+00 | 9.33381086e-13\n",
      "iter   |   total error  |    grads_l2   \n",
      "=========================================\n",
      "  0    | 1.00000000e+00 | 9.33380951e-13\n",
      "  1    | 1.00000000e+00 | 9.33380985e-13\n",
      "  2    | 1.00000000e+00 | 9.33381018e-13\n",
      "  3    | 1.00000000e+00 | 9.33381052e-13\n",
      "  4    | 1.00000000e+00 | 9.33381086e-13\n",
      "iter   |   total error  |    grads_l2   \n",
      "=========================================\n",
      "  0    | 1.00000000e+00 | 9.33380951e-13\n",
      "  1    | 1.00000000e+00 | 9.33380985e-13\n",
      "  2    | 1.00000000e+00 | 9.33381018e-13\n",
      "  3    | 1.00000000e+00 | 9.33381052e-13\n",
      "  4    | 1.00000000e+00 | 9.33381086e-13\n",
      "iter   |   total error  |    grads_l2   \n",
      "=========================================\n",
      "  0    | 1.00000000e+00 | 9.33380951e-13\n",
      "  1    | 1.00000000e+00 | 9.33380985e-13\n",
      "  2    | 1.00000000e+00 | 9.33381018e-13\n",
      "  3    | 1.00000000e+00 | 9.33381052e-13\n",
      "  4    | 1.00000000e+00 | 9.33381086e-13\n",
      "iter   |   total error  |    grads_l2   \n",
      "=========================================\n",
      "  0    | 1.00000000e+00 | 9.33380951e-13\n",
      "  1    | 1.00000000e+00 | 9.33380985e-13\n",
      "  2    | 1.00000000e+00 | 9.33381018e-13\n",
      "  3    | 1.00000000e+00 | 9.33381052e-13\n",
      "  4    | 1.00000000e+00 | 9.33381086e-13\n",
      "iter   |   total error  |    grads_l2   \n",
      "=========================================\n",
      "  0    | 1.00000000e+00 | 9.33380951e-13\n",
      "  1    | 1.00000000e+00 | 9.33380985e-13\n",
      "  2    | 1.00000000e+00 | 9.33381018e-13\n",
      "  3    | 1.00000000e+00 | 9.33381052e-13\n",
      "  4    | 1.00000000e+00 | 9.33381086e-13\n",
      "iter   |   total error  |    grads_l2   \n",
      "=========================================\n",
      "  0    | 1.00000000e+00 | 9.33380951e-13\n",
      "  1    | 1.00000000e+00 | 9.33380985e-13\n",
      "  2    | 1.00000000e+00 | 9.33381018e-13\n",
      "  3    | 1.00000000e+00 | 9.33381052e-13\n",
      "  4    | 1.00000000e+00 | 9.33381086e-13\n"
     ]
    }
   ],
   "source": [
    "# naive Krylov output\n",
    "h_dims = range(10, 1000, 100)\n",
    "ktimes_scipy_openmp = []\n",
    "for dim in h_dims:\n",
    "    kstart = time.time()\n",
    "    scipy_expv(1, dim)\n",
    "    kend = time.time()\n",
    "\n",
    "    ktime = kend-kstart\n",
    "    ktimes_scipy_openmp.append(ktime)"
   ],
   "metadata": {
    "collapsed": false,
    "pycharm": {
     "name": "#%%\n"
    }
   }
  },
  {
   "cell_type": "code",
   "execution_count": 22,
   "outputs": [
    {
     "name": "stdout",
     "output_type": "stream",
     "text": [
      "[0.14650487899780273, 0.10528993606567383, 0.08376288414001465, 0.09126496315002441, 0.09019327163696289, 0.08912491798400879, 0.10834002494812012, 0.09806203842163086, 0.1429307460784912, 0.15024375915527344]\n"
     ]
    }
   ],
   "source": [
    "print(ktimes_scipy_openmp)"
   ],
   "metadata": {
    "collapsed": false,
    "pycharm": {
     "name": "#%%\n"
    }
   }
  },
  {
   "cell_type": "code",
   "execution_count": 1,
   "outputs": [],
   "source": [
    "# # AD output\n",
    "# adtimes = []\n",
    "# for dim in h_dims:\n",
    "#     adstart = time.time()\n",
    "#     AD(5, dim)\n",
    "#     adend = time.time()\n",
    "#\n",
    "#     adtime = adend-adstart\n",
    "#     adtimes.append(adtime)"
   ],
   "metadata": {
    "collapsed": false,
    "pycharm": {
     "name": "#%%\n"
    }
   }
  },
  {
   "cell_type": "code",
   "execution_count": 34,
   "outputs": [
    {
     "data": {
      "text/plain": "<Figure size 432x288 with 1 Axes>",
      "image/png": "[encoded data removed]"
     },
     "metadata": {
      "needs_background": "light"
     },
     "output_type": "display_data"
    }
   ],
   "source": [
    "plt.scatter(h_dims, adtimes, color='C0', label=\"AD\")\n",
    "plt.plot(h_dims, adtimes, color='C0', alpha = 0.5)\n",
    "\n",
    "plt.scatter(h_dims, ktimes, color='r', label=\"Krylov\")\n",
    "plt.plot(h_dims, ktimes, color='r', alpha = 0.5)\n",
    "\n",
    "plt.xlabel(\"l\")\n",
    "plt.ylabel(\"runtime [s]\")\n",
    "\n",
    "plt.title(\"AD vs Krylov runtime\")\n",
    "plt.grid()\n",
    "plt.legend()\n",
    "\n",
    "plt.show()"
   ],
   "metadata": {
    "collapsed": false,
    "pycharm": {
     "name": "#%%\n"
    }
   }
  },
  {
   "cell_type": "code",
   "execution_count": 23,
   "outputs": [],
   "source": [
    "times_ad = [0.12549805641174316, 0.3137378692626953, 1.0548009872436523, 2.440361976623535, 5.16273307800293, 8.718554973602295, 13.897977113723755, 18.615697145462036, 27.014513731002808, 42.077934980392456]\n",
    "times_krylov_magnus = [0.1898491382598877, 0.5633950233459473, 0.6736938953399658, 0.6977560520172119, 0.8792262077331543, 0.8070337772369385, 1.0527050495147705, 1.2177798748016357, 1.209434986114502, 1.2146077156066895]\n",
    "times_krylov_pyexpokit = [0.2308180332183838, 0.5363681316375732, 0.6581361293792725, 0.6247711181640625, 0.6761720180511475, 0.7147650718688965, 0.7632489204406738, 0.8393259048461914, 0.8628678321838379, 0.9217147827148438]\n",
    "times_scipy = [0.13176989555358887, 0.13581418991088867, 0.12553811073303223, 0.1103360652923584, 0.11827301979064941, 0.1321089267730713, 0.12587904930114746, 0.16336393356323242, 0.16615009307861328, 0.12619781494140625]\n",
    "times_scipy_openmp = [0.1359100341796875, 0.12116003036499023, 0.12153196334838867, 0.09893989562988281, 0.18100190162658691, 0.1517798900604248, 0.10602116584777832, 0.17594194412231445, 0.10915899276733398, 0.1106879711151123]\n",
    "times_scipy_openmp1 = [0.17931103706359863, 0.11263799667358398, 0.11458182334899902, 0.10267806053161621, 0.11082196235656738, 0.10682487487792969, 0.1479649543762207, 0.1346580982208252, 0.13637018203735352, 0.09749460220336914]\n",
    "times_scipy_openmp2 = [0.1275339126586914, 0.1078331470489502, 0.10687470436096191, 0.12043285369873047, 0.09015417098999023, 0.11866021156311035, 0.14934015274047852, 0.1068410873413086, 0.1038210391998291, 0.11232781410217285]\n",
    "times_scipy_openmp3 = [0.14650487899780273, 0.10528993606567383, 0.08376288414001465, 0.09126496315002441, 0.09019327163696289, 0.08912491798400879, 0.10834002494812012, 0.09806203842163086, 0.1429307460784912, 0.15024375915527344]\n"
   ],
   "metadata": {
    "collapsed": false,
    "pycharm": {
     "name": "#%%\n"
    }
   }
  },
  {
   "cell_type": "code",
   "execution_count": 28,
   "outputs": [
    {
     "data": {
      "text/plain": "<Figure size 432x288 with 1 Axes>",
      "image/png": "[encoded data removed]"
     },
     "metadata": {
      "needs_background": "light"
     },
     "output_type": "display_data"
    }
   ],
   "source": [
    "plt.scatter(h_dims, times_scipy, color='C0', label=\"scipy\")\n",
    "plt.plot(h_dims, times_scipy, color='C0', alpha = 0.5)\n",
    "\n",
    "plt.scatter(h_dims, ktimes_scipy_openmp, color='r', label=\"new Krylov\")\n",
    "plt.plot(h_dims, ktimes_scipy_openmp, color='r', alpha = 0.5)\n",
    "\n",
    "plt.xlabel(\"l\")\n",
    "plt.ylabel(\"runtime [s]\")\n",
    "\n",
    "plt.title(\"AD vs Krylov runtime\")\n",
    "plt.grid()\n",
    "plt.legend()\n",
    "\n",
    "plt.show()"
   ],
   "metadata": {
    "collapsed": false,
    "pycharm": {
     "name": "#%%\n"
    }
   }
  },
  {
   "cell_type": "code",
   "execution_count": null,
   "outputs": [],
   "source": [],
   "metadata": {
    "collapsed": false,
    "pycharm": {
     "name": "#%%\n"
    }
   }
  }
 ],
 "metadata": {
  "kernelspec": {
   "name": "pycharm-7a3548ba",
   "language": "python",
   "display_name": "PyCharm (qoc)"
  },
  "language_info": {
   "codemirror_mode": {
    "name": "ipython",
    "version": 2
   },
   "file_extension": ".py",
   "mimetype": "text/x-python",
   "name": "python",
   "nbconvert_exporter": "python",
   "pygments_lexer": "ipython2",
   "version": "2.7.6"
  }
 },
 "nbformat": 4,
 "nbformat_minor": 0
}